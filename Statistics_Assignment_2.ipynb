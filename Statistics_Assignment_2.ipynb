{
 "cells": [
  {
   "cell_type": "markdown",
   "id": "214d7334-f38f-42e7-acec-1e311fe618f8",
   "metadata": {},
   "source": [
    "### Q1. Explain the properties of the F-distribution. \n",
    "\n",
    "Ans- The F-distribution is also known as the Fisher-Snedecor distribution.It is a probability distribution that is useful in context of comparing variances of two or more samples.It has several properties:\n",
    "\n",
    "**a) Asymmetrical -** The F-distribution is skewed to the right and is not symmetrical. \n",
    "\n",
    "**b) Degrees of freedom -** The F-distribution is defined by two parameters: the degrees of freedom of the numerator(d1) and the degrees of freedom of the denominator(d2).  \n",
    "\n",
    "**c) Positive values -** The F-distribution can only have positive values, like a chi-square distribution.\n",
    "\n",
    "**d) F-statistic -** The F-statistic is greater than or equal to zero. \n",
    "\n",
    "**e) Curve -** As the degrees of freedom for the numerator and denominator increase, the F-distribution approximates the normal distribution and its shape depends on the values of the numerator and denominator degrees of freedom. "
   ]
  },
  {
   "cell_type": "markdown",
   "id": "3877878e-1abc-4397-a606-907d4e50ae78",
   "metadata": {},
   "source": [
    "### Q2. In which types of statistical tests is the F-distribution used, and why is it appropriate for these tests?\n",
    "\n",
    "Ans- The F-distribution is used in statistical tests such as the F-test and analysis of variance (ANOVA) because it's a probability distribution that's used to compare variances:\n",
    "\n",
    "**F-test -** It is used to compare the variances of two samples or the ratio of variances between multiple samples. The F-test uses the F-statistic, which is the ratio of two variances, to determine if the data has an F-distribution. It is also known as variance ratio test.\n",
    "\n",
    "**Analysis of variance (ANOVA) -** It is a statistical method used to compare the means of two or more groups. ANOVA can determine if the means of three or more groups are different or same. \n",
    "\n",
    "The F-distribution is appropriate for these tests because it's used to compare variances, which is a measure of how far data are scattered from the mean."
   ]
  },
  {
   "cell_type": "markdown",
   "id": "6b23f39f-1b0e-474a-8692-de87a01e3872",
   "metadata": {},
   "source": [
    "### Q3. What are the key assumptions required for conducting an F-test to compare the variances of two populations?"
   ]
  },
  {
   "cell_type": "markdown",
   "id": "4fcd6d1e-5ff8-4106-a789-73ee412c1e34",
   "metadata": {},
   "source": [
    "Ans - The key assumptions required for conducting an F-test to compare the variances of two populations are as follows:\n",
    "\n",
    "a) The population from which samples are drawn should be normally distributed.\n",
    "\n",
    "b) The samples should be independent of each other i.e., random.\n",
    "\n",
    "c) Homogenity of variances means that the variance among the groups should be approximately equal."
   ]
  },
  {
   "cell_type": "markdown",
   "id": "c32c0f3f-f0df-46a7-893f-396688fd1399",
   "metadata": {},
   "source": [
    "### Q4. What is the purpose of ANOVA, and how does it differ from a t-test? \r\n",
    "Ans - The purpose of ANOVA is to compare the means of two or more groups while a t-test is used to compare the means of two groups. \n",
    "\n",
    "Both of these tests are performed when 1) the samples are independent of each other and 2) have (approximately) normal distributions or when the sample number is high (e.g., > 30 per group). \r\n",
    "\r"
   ]
  },
  {
   "cell_type": "markdown",
   "id": "deb1eb5d-c3b7-4005-9e15-83cdbf12dfe0",
   "metadata": {},
   "source": [
    "### Q5. Explain when and why you would use a one-way ANOVA instead of multiple t-tests when comparing more than two groups."
   ]
  },
  {
   "cell_type": "markdown",
   "id": "ae8c3995-e7b2-4528-80a3-52491a26331c",
   "metadata": {},
   "source": [
    "Ans - When there may be more chances of occuring error while comparing more than two groups, we should use one-way analysis of variance(ANOVA).\n",
    "\n",
    "It is because when we are using t-test to compare the groups, there has a 5% chance of commiting Type-I Error. When we are using multiple t-test,the chances of error increases. By running two t-tests on the same data you will have increased your chance of \"making a mistake\" to 10%. The formula for determining the new error rate for multiple t-tests is not as simple as multiplying 5% by the number of tests.\n",
    "\n",
    "However, if you are only making a few multiple comparisons, the results are very similar if you do. As such, three t-tests would be 15% (actually, 14.3%) and so on. These are unacceptable errors.\n",
    "\n",
    "An ANOVA controls for these errors so that the Type I error remains at 5% and the results are statistically significant.\n",
    "\n",
    "That's why we use a one-way ANOVA instead of multiple t-tests when comparing more than two groups."
   ]
  },
  {
   "cell_type": "markdown",
   "id": "7d76bcdc-19b7-4cfa-8853-a16616d2b634",
   "metadata": {},
   "source": [
    "### Q6. Explain how variance is partitioned in ANOVA into between-group variance and within-group variance How does this partitioning contribute to the calculation of the F-statistic?"
   ]
  },
  {
   "cell_type": "markdown",
   "id": "2e01f850-974c-4fb2-8078-bc0c80f7592b",
   "metadata": {},
   "source": [
    "Ans - The main objective of ANOVA is to partition the total variability observed in the data into different components to determine the relative contributions of different source of variation. These sources of variation can be categorized into two main types: \n",
    "\n",
    "**a) Between-group variation** - The between-group variation represents the variability between the different groups or treatments being compared. It measures how different the group means are from each other.      \n",
    "\n",
    "**b) Within-group variation** - The within-group variation reflects the variability within each group and quantifies the spread of the observations within each group.\n",
    "\n",
    "Then, F-statistic is calculated which is the ratio of the  mean square for the between groups divided by the mean square within groups. It is used to determine whether the means of three or more groups are different. \n",
    "\n",
    "If the null hypothesis is true, the variance between groups would be roughly the same as the variance within groups, and the F-statistic would be close to 1.0.\n",
    "\n",
    "If the group assignment has an effect on the measurements, the between group variance would be greater than the within group variance, and the F-statistic would be greater than 1.0."
   ]
  },
  {
   "cell_type": "markdown",
   "id": "950a8f57-c0b8-4db4-9f7b-365e5ec20394",
   "metadata": {},
   "source": [
    "### Q7. Compare the classical (frequentist) approach to ANOVA with the Bayesian approach. What are the key differences in terms of how they handle uncertainty, parameter estimation, and hypothesis testing?"
   ]
  },
  {
   "cell_type": "markdown",
   "id": "1ccc476d-1fb4-407f-99be-022f08c0f549",
   "metadata": {},
   "source": [
    "Ans - There are 2 main approaches to statistical inference, frequentist and Bayesian, differing in their interpretation of uncertainty, parameter estimation and hypothesis testing.\n",
    "\t\n",
    "**a) Uncertainity-** The Bayesian approach deals with the probability of a hypothesis given a particular data set, whereas the frequentist approach deals with long-run probabilities (ie, how probable is this data set given the null hypothesis). \n",
    "\t\n",
    "**b) Parameter estimation-** Frequentists use point estimates of unknown parameters to predict new data points, while Bayesians use a full posterior distribution over the possible parameter values. \n",
    "\t\n",
    "**c) Hypothesis testing-** The Bayesian approach can calculate the probability that a particular hypothesis is true, whereas the frequentist approach calculates the probability of obtaining another data set at least as extreme as the one collected (giving the P value).\n",
    "\n",
    "**d) Prior Information-** Bayesian analysis incorporates prior information into the analysis, whereas a frequentist analysis is purely driven by the data. \n",
    "\t\n",
    "Interpretation of results is more intuitive with a Bayesian approach compared with the frequentist approach, which can often be misinterpreted."
   ]
  },
  {
   "cell_type": "markdown",
   "id": "d906cb99-e14b-4fe4-ac81-f5b43ecc08f6",
   "metadata": {},
   "source": [
    "### Q8. You have two sets of data representing the incomes of two different professions:\n",
    "\n",
    "**Profession A : [48, 52, 55, 60, 62]**\n",
    "\n",
    "**Profession B : [45, 50, 55, 52, 47]**\n",
    "\n",
    "**Perform an F-test to determine if the variances of the two professions income are equal. What are your conclusions based on the F-test?** \n",
    "\n",
    "**Task : Use Python to calculate the F-statistic and p-value for the given data.**\n",
    "\n",
    "**Objective : Gain experience in performing F-test and interpreting the results in terms of variance comparison.** "
   ]
  },
  {
   "cell_type": "code",
   "execution_count": 15,
   "id": "92e64c8d-fe98-4a31-9d11-15f58fe7dcf1",
   "metadata": {},
   "outputs": [],
   "source": [
    "import numpy as np\n",
    "import scipy.stats as stats\n",
    "from scipy.stats import f\n",
    "\n",
    "Profession_A = [48, 52, 55, 60, 62]\n",
    "Profession_B = [45, 50, 55, 52, 47]\n",
    "\n",
    "#calculating f-statistics\n",
    "fstats = np.var(Profession_A)/np.var(Profession_B)\n",
    "\n",
    "df1 = len(Profession_A) - 1\n",
    "df2 = len(Profession_B) - 1\n",
    "alpha = 0.05\n",
    "\n",
    "#calculating critical value\n",
    "critical_value = stats.f.ppf(q = 1-alpha, dfn = df1, dfd = df2)"
   ]
  },
  {
   "cell_type": "code",
   "execution_count": 17,
   "id": "185bac40-1573-47a8-a66a-8770f65d5793",
   "metadata": {},
   "outputs": [
    {
     "data": {
      "text/plain": [
       "2.089171974522293"
      ]
     },
     "execution_count": 17,
     "metadata": {},
     "output_type": "execute_result"
    }
   ],
   "source": [
    "fstats"
   ]
  },
  {
   "cell_type": "code",
   "execution_count": 19,
   "id": "e5a5ed10-536e-4870-86bc-850b96ee50e0",
   "metadata": {},
   "outputs": [
    {
     "data": {
      "text/plain": [
       "6.388232908695868"
      ]
     },
     "execution_count": 19,
     "metadata": {},
     "output_type": "execute_result"
    }
   ],
   "source": [
    "critical_value"
   ]
  },
  {
   "cell_type": "code",
   "execution_count": 21,
   "id": "0c3405dd-1a36-4603-9486-8ed8e47caaee",
   "metadata": {},
   "outputs": [
    {
     "name": "stdout",
     "output_type": "stream",
     "text": [
      "Fail to reject the Null Hypothesis\n"
     ]
    }
   ],
   "source": [
    "#comparing f-statistics and critical value\n",
    "if fstats > critical_value:\n",
    "    print('Reject the Null Hypothesis')\n",
    "else:\n",
    "    print('Fail to reject the Null Hypothesis')"
   ]
  },
  {
   "cell_type": "code",
   "execution_count": 9,
   "id": "4f2ed55d-2eb3-4e35-bd58-afcad649bb68",
   "metadata": {},
   "outputs": [
    {
     "data": {
      "text/plain": [
       "0.4930485990053393"
      ]
     },
     "execution_count": 9,
     "metadata": {},
     "output_type": "execute_result"
    }
   ],
   "source": [
    "#calculating p_value\n",
    "p_value = f.sf(fstats, df1, df2) * 2  # Two-tailed test\n",
    "p_value"
   ]
  },
  {
   "cell_type": "code",
   "execution_count": 13,
   "id": "f5a37e50-129c-4a98-9d9c-f04d21e471dd",
   "metadata": {},
   "outputs": [
    {
     "name": "stdout",
     "output_type": "stream",
     "text": [
      "Fail to Reject the Null Hypothesis\n"
     ]
    }
   ],
   "source": [
    "if p_value <= 0.05:\n",
    "    print('Reject the Null Hypothesis')\n",
    "else:\n",
    "    print('Fail to Reject the Null Hypothesis')"
   ]
  },
  {
   "cell_type": "markdown",
   "id": "a4332235-f90a-4888-8382-9972494c4de6",
   "metadata": {},
   "source": [
    "***Conclusions - The variances of the two professions income are significantly different.***"
   ]
  },
  {
   "cell_type": "markdown",
   "id": "f08a347d-c451-44ad-ac6b-4013610c1230",
   "metadata": {},
   "source": [
    "### Q9. Conduct a one-way ANOVA to test whether there are any statistically significant differences in average heights between three different regions with the following data:1"
   ]
  },
  {
   "cell_type": "markdown",
   "id": "2e91fef9-5e7a-4782-8db8-3859818b44e9",
   "metadata": {},
   "source": [
    "**Region A: [160, 162, 165, 158, 164]**\n",
    "\n",
    "**Region B: [172, 175, 170, 168, 174]**\n",
    "\n",
    "**Region C: [180, 182, 179, 185, 183]**\n",
    "\n",
    "**Task : Write Python code to perform the one-way ANOVA and interpret the results.**\n",
    "\n",
    "**Objective : Learn how to perform one-way ANOVA using Python and interpret F-statistic and p-value.**"
   ]
  },
  {
   "cell_type": "code",
   "execution_count": 25,
   "id": "95290a88-d489-41bc-9505-fe65a31867d6",
   "metadata": {},
   "outputs": [],
   "source": [
    "Region_A =  [160, 162, 165, 158, 164]\n",
    "Region_B =  [172, 175, 170, 168, 174]\n",
    "Region_C =  [180, 182, 179, 185, 183]\n",
    "\n",
    "#calculating fstats,pvalue\n",
    "fstats, pvalue = stats.f_oneway(Region_A,Region_B,Region_C)"
   ]
  },
  {
   "cell_type": "code",
   "execution_count": 29,
   "id": "c77a11a4-50aa-47a0-9f5d-6d6f4b786cef",
   "metadata": {},
   "outputs": [
    {
     "data": {
      "text/plain": [
       "67.87330316742101"
      ]
     },
     "execution_count": 29,
     "metadata": {},
     "output_type": "execute_result"
    }
   ],
   "source": [
    "fstats"
   ]
  },
  {
   "cell_type": "code",
   "execution_count": 31,
   "id": "fe79ab7b-8ce3-4646-886f-765ecfd40287",
   "metadata": {},
   "outputs": [
    {
     "data": {
      "text/plain": [
       "2.870664187937026e-07"
      ]
     },
     "execution_count": 31,
     "metadata": {},
     "output_type": "execute_result"
    }
   ],
   "source": [
    "pvalue"
   ]
  },
  {
   "cell_type": "code",
   "execution_count": 27,
   "id": "a9c7ad12-15e6-4c56-88ba-1f1dfae29d7f",
   "metadata": {},
   "outputs": [
    {
     "name": "stdout",
     "output_type": "stream",
     "text": [
      "Reject the Null Hypothesis\n"
     ]
    }
   ],
   "source": [
    "if pvalue <= 0.05:\n",
    "    print('Reject the Null Hypothesis')\n",
    "else:\n",
    "    print('Fail to Reject the Null Hypothesis')"
   ]
  },
  {
   "cell_type": "markdown",
   "id": "32356b13-c551-4df1-9d3b-5f302b8f9336",
   "metadata": {},
   "source": [
    "***Conclusion - Since the p-value is extremely small (significantly less than 0.05), we reject the null hypothesis. This indicates that there are statistically significant differences in average heights among the three regions.***"
   ]
  },
  {
   "cell_type": "markdown",
   "id": "c289e34c-3de9-4156-b5fb-27b5f2d28d37",
   "metadata": {},
   "source": [
    "# Assignment Completed"
   ]
  }
 ],
 "metadata": {
  "kernelspec": {
   "display_name": "Python 3 (ipykernel)",
   "language": "python",
   "name": "python3"
  },
  "language_info": {
   "codemirror_mode": {
    "name": "ipython",
    "version": 3
   },
   "file_extension": ".py",
   "mimetype": "text/x-python",
   "name": "python",
   "nbconvert_exporter": "python",
   "pygments_lexer": "ipython3",
   "version": "3.12.4"
  }
 },
 "nbformat": 4,
 "nbformat_minor": 5
}

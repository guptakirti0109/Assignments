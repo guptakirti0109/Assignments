{
  "nbformat": 4,
  "nbformat_minor": 0,
  "metadata": {
    "colab": {
      "provenance": []
    },
    "kernelspec": {
      "name": "python3",
      "display_name": "Python 3"
    },
    "language_info": {
      "name": "python"
    }
  },
  "cells": [
    {
      "cell_type": "markdown",
      "source": [
        "**Q4. Write a Python program using multithreading where one thread adds numbers to a list, and another thread removes numbers from the list. Implement a mechanism to avoid race conditions using threading.Lock.**\n",
        "\n"
      ],
      "metadata": {
        "id": "0AMLc9xkkjdl"
      }
    },
    {
      "cell_type": "code",
      "source": [
        "import threading\n",
        "import time"
      ],
      "metadata": {
        "id": "fN7CF1vMkorH"
      },
      "execution_count": 2,
      "outputs": []
    },
    {
      "cell_type": "code",
      "source": [
        "#list in which no. is added and from which no. is removed\n",
        "numbers = []\n",
        "list_lock = threading.Lock()    #avoiding race conditions\n",
        "\n",
        "def add_numbers():              #adding numbers to the given list\n",
        "    for i in range(1, 11):\n",
        "        time.sleep(0.1)\n",
        "        with list_lock:\n",
        "            numbers.append(i)\n",
        "            print(f\"Added {i} to the list, so the list is: {numbers}\")\n",
        "\n",
        "def remove_numbers():           #removing numbers from the given list\n",
        "    for _ in range(1, 11):\n",
        "        time.sleep(0.12)\n",
        "        with list_lock:\n",
        "            if numbers:\n",
        "                removed = numbers.pop(0)\n",
        "                print(f\"Removed {removed} from the list, so the list is: {numbers}\")\n",
        "            else:\n",
        "                print(\"List is empty. Waiting for numbers to be added.\")\n",
        "\n",
        "#creating threads\n",
        "add_thread = threading.Thread(target=add_numbers)\n",
        "remove_thread = threading.Thread(target=remove_numbers)\n",
        "\n",
        "# Start the threads\n",
        "add_thread.start()\n",
        "remove_thread.start()\n",
        "\n",
        "# Wait for both threads to finish\n",
        "add_thread.join()\n",
        "remove_thread.join()\n",
        "\n",
        "print(\"Final list:\", numbers)"
      ],
      "metadata": {
        "colab": {
          "base_uri": "https://localhost:8080/"
        },
        "id": "hCVS3Atikv8J",
        "outputId": "26edac0a-9ed1-415d-c06c-c1db2203b346"
      },
      "execution_count": 3,
      "outputs": [
        {
          "output_type": "stream",
          "name": "stdout",
          "text": [
            "Added 1 to the list, so the list is: [1]\n",
            "Removed 1 from the list, so the list is: []\n",
            "Added 2 to the list, so the list is: [2]\n",
            "Removed 2 from the list, so the list is: []\n",
            "Added 3 to the list, so the list is: [3]\n",
            "Removed 3 from the list, so the list is: []\n",
            "Added 4 to the list, so the list is: [4]\n",
            "Removed 4 from the list, so the list is: []\n",
            "Added 5 to the list, so the list is: [5]\n",
            "Added 6 to the list, so the list is: [5, 6]\n",
            "Removed 5 from the list, so the list is: [6]\n",
            "Added 7 to the list, so the list is: [6, 7]\n",
            "Removed 6 from the list, so the list is: [7]\n",
            "Added 8 to the list, so the list is: [7, 8]\n",
            "Removed 7 from the list, so the list is: [8]\n",
            "Added 9 to the list, so the list is: [8, 9]\n",
            "Removed 8 from the list, so the list is: [9]\n",
            "Added 10 to the list, so the list is: [9, 10]\n",
            "Removed 9 from the list, so the list is: [10]\n",
            "Removed 10 from the list, so the list is: []\n",
            "Final list: []\n"
          ]
        }
      ]
    },
    {
      "cell_type": "markdown",
      "source": [
        "**Q7. Create a program that uses a thread pool to calculate the factorial of numbers from 1 to 10 concurrently. Use concurrent.futures.ThreadPoolExecutor to manage the threads.**"
      ],
      "metadata": {
        "id": "FWa0Zj2Tk3qn"
      }
    },
    {
      "cell_type": "code",
      "source": [
        "import concurrent.futures"
      ],
      "metadata": {
        "id": "lMqWfA-hlBS5"
      },
      "execution_count": 4,
      "outputs": []
    },
    {
      "cell_type": "code",
      "source": [
        "# Function to calculate factorial\n",
        "def factorial(n):\n",
        "    pro = 1\n",
        "    for i in range(n):\n",
        "        pro = pro*n\n",
        "        n = n - 1\n",
        "    return pro\n",
        "\n",
        "numbers = list(range(1, 11))       # List of numbers from 1 to 10\n",
        "\n",
        "with concurrent.futures.ThreadPoolExecutor() as executor:\n",
        "    results = list(executor.map(factorial, numbers))\n",
        "\n",
        "print(\"Factorials of numbers from 1 to 10:\")\n",
        "for num, fact in zip(numbers, results):\n",
        "    print(f\"{num}! = {fact}\")"
      ],
      "metadata": {
        "colab": {
          "base_uri": "https://localhost:8080/"
        },
        "id": "r6Eicf_blKbc",
        "outputId": "b0ef1ab7-4ee9-4b8d-ed75-42d3deab9283"
      },
      "execution_count": 5,
      "outputs": [
        {
          "output_type": "stream",
          "name": "stdout",
          "text": [
            "Factorials of numbers from 1 to 10:\n",
            "1! = 1\n",
            "2! = 2\n",
            "3! = 6\n",
            "4! = 24\n",
            "5! = 120\n",
            "6! = 720\n",
            "7! = 5040\n",
            "8! = 40320\n",
            "9! = 362880\n",
            "10! = 3628800\n"
          ]
        }
      ]
    },
    {
      "cell_type": "markdown",
      "source": [
        "**Q8. Create a Python program that uses multiprocessing.Pool to compute the square of numbers from 1 to 10 in parallel. Measure the time taken to perform this computation using a pool of different sizes (e.g., 2, 4, 8 processes)**"
      ],
      "metadata": {
        "id": "OmUKtt0rlM3t"
      }
    },
    {
      "cell_type": "code",
      "execution_count": 7,
      "metadata": {
        "colab": {
          "base_uri": "https://localhost:8080/"
        },
        "id": "QqHRHkuFkHTN",
        "outputId": "753ccfb8-eb77-4b7e-cbd4-5ef5109aacc5"
      },
      "outputs": [
        {
          "output_type": "stream",
          "name": "stdout",
          "text": [
            "\n",
            "Using pool size: 2\n",
            "Results: [1, 4, 9, 16, 25, 36, 49, 64, 81, 100]\n",
            "Time taken with pool size 2: 0.0511 seconds\n",
            "\n",
            "Using pool size: 4\n",
            "Results: [1, 4, 9, 16, 25, 36, 49, 64, 81, 100]\n",
            "Time taken with pool size 4: 0.0838 seconds\n",
            "\n",
            "Using pool size: 8\n",
            "Results: [1, 4, 9, 16, 25, 36, 49, 64, 81, 100]\n",
            "Time taken with pool size 8: 0.1565 seconds\n"
          ]
        }
      ],
      "source": [
        "import multiprocessing\n",
        "import time\n",
        "\n",
        "# Function to calculate the square of a number\n",
        "def cal_square(n):\n",
        "    return n * n\n",
        "\n",
        "# List of numbers from 1 to 10\n",
        "numbers = list(range(1, 11))\n",
        "\n",
        "# Function to measure computation time with different pool sizes\n",
        "def compute_squares(pool_size):\n",
        "    print(f\"\\nUsing pool size: {pool_size}\")\n",
        "    start_time = time.time()\n",
        "\n",
        "    with multiprocessing.Pool(pool_size) as pool:\n",
        "        results = pool.map(cal_square, numbers)\n",
        "\n",
        "    end_time = time.time()\n",
        "    print(f\"Results: {results}\")\n",
        "    print(f\"Time taken with pool size {pool_size}: {end_time - start_time:.4f} seconds\")\n",
        "\n",
        "# Test with different pool sizes\n",
        "for size in [2, 4, 8]:\n",
        "    compute_squares(size)\n"
      ]
    },
    {
      "cell_type": "markdown",
      "source": [
        "**ASSIGNMENT COMPLETED**"
      ],
      "metadata": {
        "id": "btRRC7s6l9Lj"
      }
    }
  ]
}

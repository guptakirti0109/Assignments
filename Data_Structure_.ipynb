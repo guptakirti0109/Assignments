{
  "nbformat": 4,
  "nbformat_minor": 0,
  "metadata": {
    "colab": {
      "provenance": []
    },
    "kernelspec": {
      "name": "python3",
      "display_name": "Python 3"
    },
    "language_info": {
      "name": "python"
    }
  },
  "cells": [
    {
      "cell_type": "markdown",
      "source": [
        "Q1) Discuss string slicing and provide examples.\n",
        "\n",
        "Ans- Python slicing is about obtaining a sub-string from the given string by slicing it respectively from start to end."
      ],
      "metadata": {
        "id": "T94bdAvsfWjA"
      }
    },
    {
      "cell_type": "code",
      "execution_count": null,
      "metadata": {
        "colab": {
          "base_uri": "https://localhost:8080/",
          "height": 36
        },
        "id": "PGFzg8i3dnGx",
        "outputId": "33ebc464-0c99-45ee-c1a4-e6402fb5fdf6"
      },
      "outputs": [
        {
          "output_type": "execute_result",
          "data": {
            "text/plain": [
              "'I am'"
            ],
            "application/vnd.google.colaboratory.intrinsic+json": {
              "type": "string"
            }
          },
          "metadata": {},
          "execution_count": 2
        }
      ],
      "source": [
        "#Some examples of string slicing are:\n",
        "#syntax of string = [start,end,step]\n",
        "\n",
        "Course = \"I am a student of Data Analytics Course\"               #provide values upto third index only\n",
        "Course[0:4]"
      ]
    },
    {
      "cell_type": "code",
      "source": [
        "Course = \"I am a student of Data Analytics Course\"              #provide values with gap of two indexes\n",
        "Course[::2]"
      ],
      "metadata": {
        "colab": {
          "base_uri": "https://localhost:8080/",
          "height": 36
        },
        "id": "wEackqLXhOYt",
        "outputId": "8cfcac94-820b-4090-cdd4-0775e64540b3"
      },
      "execution_count": null,
      "outputs": [
        {
          "output_type": "execute_result",
          "data": {
            "text/plain": [
              "'Ia  tdn fDt nltc ore'"
            ],
            "application/vnd.google.colaboratory.intrinsic+json": {
              "type": "string"
            }
          },
          "metadata": {},
          "execution_count": 3
        }
      ]
    },
    {
      "cell_type": "code",
      "source": [
        "Course = \"I am a student of Data Analytics Course\"               #provide values from 5th index upto last\n",
        "Course[5:]"
      ],
      "metadata": {
        "colab": {
          "base_uri": "https://localhost:8080/",
          "height": 36
        },
        "id": "T2ns7ppQhqig",
        "outputId": "f42be494-f183-4fbc-c396-60f22d8c9630"
      },
      "execution_count": null,
      "outputs": [
        {
          "output_type": "execute_result",
          "data": {
            "text/plain": [
              "'a student of Data Analytics Course'"
            ],
            "application/vnd.google.colaboratory.intrinsic+json": {
              "type": "string"
            }
          },
          "metadata": {},
          "execution_count": 4
        }
      ]
    },
    {
      "cell_type": "code",
      "source": [
        "a = 'My Name is Kirti Gupta'                                     #doesn't provide last index value\n",
        "a[:-1]"
      ],
      "metadata": {
        "colab": {
          "base_uri": "https://localhost:8080/",
          "height": 36
        },
        "id": "VD3LfYxsh_tO",
        "outputId": "6f8fa1b5-a946-4fcc-e01a-f258048458e2"
      },
      "execution_count": null,
      "outputs": [
        {
          "output_type": "execute_result",
          "data": {
            "text/plain": [
              "'My Name is Kirti Gupt'"
            ],
            "application/vnd.google.colaboratory.intrinsic+json": {
              "type": "string"
            }
          },
          "metadata": {},
          "execution_count": 5
        }
      ]
    },
    {
      "cell_type": "code",
      "source": [
        "a = 'My Name is Kirti Gupta'                                      #doesn't provide last 5 index values\n",
        "a[:-5]"
      ],
      "metadata": {
        "colab": {
          "base_uri": "https://localhost:8080/",
          "height": 36
        },
        "id": "SkPCml8uiJEP",
        "outputId": "12af4613-e59d-4cdc-9f01-5dc5e6d809b4"
      },
      "execution_count": null,
      "outputs": [
        {
          "output_type": "execute_result",
          "data": {
            "text/plain": [
              "'My Name is Kirti '"
            ],
            "application/vnd.google.colaboratory.intrinsic+json": {
              "type": "string"
            }
          },
          "metadata": {},
          "execution_count": 6
        }
      ]
    },
    {
      "cell_type": "code",
      "source": [
        "a = 'My Name is Kirti Gupta'                                      #provides the last 5 index values\n",
        "a[-5:]"
      ],
      "metadata": {
        "colab": {
          "base_uri": "https://localhost:8080/",
          "height": 36
        },
        "id": "ggFq5WoCjO_h",
        "outputId": "2c859b8b-bc04-4d29-94b3-5f07137f8ad2"
      },
      "execution_count": null,
      "outputs": [
        {
          "output_type": "execute_result",
          "data": {
            "text/plain": [
              "'Gupta'"
            ],
            "application/vnd.google.colaboratory.intrinsic+json": {
              "type": "string"
            }
          },
          "metadata": {},
          "execution_count": 7
        }
      ]
    },
    {
      "cell_type": "code",
      "source": [
        "a = 'My Name is Kirti Gupta'\n",
        "a[0:]"
      ],
      "metadata": {
        "colab": {
          "base_uri": "https://localhost:8080/",
          "height": 36
        },
        "id": "_W8y7o02jgPh",
        "outputId": "eb36297c-b72a-4766-f0bd-fc717dc29b65"
      },
      "execution_count": null,
      "outputs": [
        {
          "output_type": "execute_result",
          "data": {
            "text/plain": [
              "'My Name is Kirti Gupta'"
            ],
            "application/vnd.google.colaboratory.intrinsic+json": {
              "type": "string"
            }
          },
          "metadata": {},
          "execution_count": 8
        }
      ]
    },
    {
      "cell_type": "code",
      "source": [
        "name = 'Monjolika'                                               #provides the name in reverse order\n",
        "name[::-1]"
      ],
      "metadata": {
        "colab": {
          "base_uri": "https://localhost:8080/",
          "height": 36
        },
        "id": "sNLmgE5Yj6w6",
        "outputId": "1268782c-87f8-49dd-af29-86ef53cae791"
      },
      "execution_count": null,
      "outputs": [
        {
          "output_type": "execute_result",
          "data": {
            "text/plain": [
              "'akilojnoM'"
            ],
            "application/vnd.google.colaboratory.intrinsic+json": {
              "type": "string"
            }
          },
          "metadata": {},
          "execution_count": 9
        }
      ]
    },
    {
      "cell_type": "code",
      "source": [
        "a = 'My Name is Kirti Gupta'                                  #provide the value of 6 indexes with no gap\n",
        "a[0:6:1]"
      ],
      "metadata": {
        "colab": {
          "base_uri": "https://localhost:8080/",
          "height": 36
        },
        "id": "FX2cvLt_kglA",
        "outputId": "2938923f-a58c-4242-b231-fb6c678a3aca"
      },
      "execution_count": null,
      "outputs": [
        {
          "output_type": "execute_result",
          "data": {
            "text/plain": [
              "'My Nam'"
            ],
            "application/vnd.google.colaboratory.intrinsic+json": {
              "type": "string"
            }
          },
          "metadata": {},
          "execution_count": 10
        }
      ]
    },
    {
      "cell_type": "markdown",
      "source": [
        "Q2) Explain the key features of lists in Python.\n",
        "\n",
        "Ans-The key features of lists in Python are as follows:\n",
        "a) It is an ordered collection of elements.\n",
        "b) It stores hetrogeneous data i.e. the elements may be of different data types such as integer,float,string,complex.\n",
        "c) It is mutable i.e. the elements of the lists are accessible and can be changed accordingly."
      ],
      "metadata": {
        "id": "0PvGJ9Sak9Si"
      }
    },
    {
      "cell_type": "code",
      "source": [
        "lists = [True,'Kirti','Drashyam',3+4j,2.4,5,False]                     #ordered collection of elements and stores homogeneous data\n",
        "lists"
      ],
      "metadata": {
        "colab": {
          "base_uri": "https://localhost:8080/"
        },
        "id": "cvq6kEsGmoO7",
        "outputId": "0289a2f4-3c42-4feb-9429-cf6e3f1a1a8b"
      },
      "execution_count": null,
      "outputs": [
        {
          "output_type": "execute_result",
          "data": {
            "text/plain": [
              "[True, 'Kirti', 'Drashyam', (3+4j), 2.4, 5, False]"
            ]
          },
          "metadata": {},
          "execution_count": 11
        }
      ]
    },
    {
      "cell_type": "code",
      "source": [
        "type(lists)"
      ],
      "metadata": {
        "colab": {
          "base_uri": "https://localhost:8080/"
        },
        "id": "zGVN2pSim-DW",
        "outputId": "ff2e9695-7daa-4663-90e9-22a6a51473ff"
      },
      "execution_count": null,
      "outputs": [
        {
          "output_type": "execute_result",
          "data": {
            "text/plain": [
              "list"
            ]
          },
          "metadata": {},
          "execution_count": 12
        }
      ]
    },
    {
      "cell_type": "code",
      "source": [
        "lists = [True,'Kirti','Drashyam',3+4j,2.4,5,False]                     #access the element of index 0\n",
        "lists[0]"
      ],
      "metadata": {
        "colab": {
          "base_uri": "https://localhost:8080/"
        },
        "id": "Rwr_C1gCnIja",
        "outputId": "819803d8-d9d8-4a8f-ac06-44d081ebfb77"
      },
      "execution_count": null,
      "outputs": [
        {
          "output_type": "execute_result",
          "data": {
            "text/plain": [
              "True"
            ]
          },
          "metadata": {},
          "execution_count": 13
        }
      ]
    },
    {
      "cell_type": "code",
      "source": [
        "lists = [True,'Kirti','Drashyam',3+4j,2.4,5,False]                     #access the type of element of index 3\n",
        "type(lists[3])"
      ],
      "metadata": {
        "colab": {
          "base_uri": "https://localhost:8080/"
        },
        "id": "FE2YNyWGnciK",
        "outputId": "23c564ff-f0bb-42ae-ed02-a9a7cf430bf8"
      },
      "execution_count": null,
      "outputs": [
        {
          "output_type": "execute_result",
          "data": {
            "text/plain": [
              "complex"
            ]
          },
          "metadata": {},
          "execution_count": 15
        }
      ]
    },
    {
      "cell_type": "code",
      "source": [
        "lists = [True,'Kirti','Drashyam',3+4j,2.4,5,False]                     #access the value of index 2 and change\n",
        "lists[2] = 'Vinayak'\n",
        "lists"
      ],
      "metadata": {
        "colab": {
          "base_uri": "https://localhost:8080/"
        },
        "id": "ezd-wgPBnyok",
        "outputId": "10960a91-b92f-42e5-f249-7a2d46f12714"
      },
      "execution_count": null,
      "outputs": [
        {
          "output_type": "execute_result",
          "data": {
            "text/plain": [
              "[True, 'Kirti', 'Vinayak', (3+4j), 2.4, 5, False]"
            ]
          },
          "metadata": {},
          "execution_count": 17
        }
      ]
    },
    {
      "cell_type": "code",
      "source": [
        "lists = [True,'Kirti','Drashyam',3+4j,2.4,5,False]                     #access the value of index -1 and change it\n",
        "lists[-1] = 2\n",
        "lists"
      ],
      "metadata": {
        "colab": {
          "base_uri": "https://localhost:8080/"
        },
        "id": "j2npGXssoToQ",
        "outputId": "65cbc7c5-f822-40ea-d132-2faac93c4600"
      },
      "execution_count": null,
      "outputs": [
        {
          "output_type": "execute_result",
          "data": {
            "text/plain": [
              "[True, 'Kirti', 'Drashyam', (3+4j), 2.4, 5, 2]"
            ]
          },
          "metadata": {},
          "execution_count": 18
        }
      ]
    },
    {
      "cell_type": "markdown",
      "source": [
        "Q3) Describe how to access,modify and delete elements in a list with examples?\n"
      ],
      "metadata": {
        "id": "aB2aML4bo-wF"
      }
    },
    {
      "cell_type": "code",
      "source": [
        "#examples of accessing,modifying and deleting elements in a list:\n",
        "\n",
        "book_lists = ['Hindi','English','Science','GK']\n",
        "book_lists"
      ],
      "metadata": {
        "colab": {
          "base_uri": "https://localhost:8080/"
        },
        "id": "J7AlnAPapsIq",
        "outputId": "f35fc732-409a-48f7-ea15-6ccc53829146"
      },
      "execution_count": null,
      "outputs": [
        {
          "output_type": "execute_result",
          "data": {
            "text/plain": [
              "['Hindi', 'English', 'Science', 'GK']"
            ]
          },
          "metadata": {},
          "execution_count": 19
        }
      ]
    },
    {
      "cell_type": "code",
      "source": [
        "book_lists[3]                                #accessing the element of 3rd index"
      ],
      "metadata": {
        "colab": {
          "base_uri": "https://localhost:8080/",
          "height": 36
        },
        "id": "fY3ghbW1qMVD",
        "outputId": "8e7bc52b-ed93-467f-d9de-b2b93c656ba3"
      },
      "execution_count": null,
      "outputs": [
        {
          "output_type": "execute_result",
          "data": {
            "text/plain": [
              "'GK'"
            ],
            "application/vnd.google.colaboratory.intrinsic+json": {
              "type": "string"
            }
          },
          "metadata": {},
          "execution_count": 20
        }
      ]
    },
    {
      "cell_type": "code",
      "source": [
        "book_lists[-2]                               #accessing the element of -2 index"
      ],
      "metadata": {
        "colab": {
          "base_uri": "https://localhost:8080/",
          "height": 36
        },
        "id": "wnhuhGdCqRLL",
        "outputId": "2f4cb9c9-9542-4687-d1af-6d8d1dfd52f2"
      },
      "execution_count": null,
      "outputs": [
        {
          "output_type": "execute_result",
          "data": {
            "text/plain": [
              "'Science'"
            ],
            "application/vnd.google.colaboratory.intrinsic+json": {
              "type": "string"
            }
          },
          "metadata": {},
          "execution_count": 22
        }
      ]
    },
    {
      "cell_type": "code",
      "source": [
        "book_lists.append(\"Computer\")                #adding computer to the list\n",
        "book_lists"
      ],
      "metadata": {
        "colab": {
          "base_uri": "https://localhost:8080/"
        },
        "id": "x9OgRInpqd7_",
        "outputId": "e2b4a653-609c-4c58-f8e1-8ee70ae4d31f"
      },
      "execution_count": null,
      "outputs": [
        {
          "output_type": "execute_result",
          "data": {
            "text/plain": [
              "['Hindi', 'English', 'Science', 'GK', 'Computer']"
            ]
          },
          "metadata": {},
          "execution_count": 23
        }
      ]
    },
    {
      "cell_type": "code",
      "source": [
        "book_lists.append('Statistics')              #adding statistics to the list\n",
        "book_lists"
      ],
      "metadata": {
        "colab": {
          "base_uri": "https://localhost:8080/"
        },
        "id": "XaShWFKvqrJx",
        "outputId": "2206aa86-82a1-46de-8b0b-223e471db154"
      },
      "execution_count": null,
      "outputs": [
        {
          "output_type": "execute_result",
          "data": {
            "text/plain": [
              "['Hindi', 'English', 'Science', 'GK', 'Computer', 'Statistics']"
            ]
          },
          "metadata": {},
          "execution_count": 24
        }
      ]
    },
    {
      "cell_type": "code",
      "source": [
        "book_lists.remove('Hindi')                   #removing Hindi from the list\n",
        "book_lists"
      ],
      "metadata": {
        "colab": {
          "base_uri": "https://localhost:8080/"
        },
        "id": "sbSh8Vq4qy_O",
        "outputId": "8849aaf0-404d-456b-932b-b71c96f713a4"
      },
      "execution_count": null,
      "outputs": [
        {
          "output_type": "execute_result",
          "data": {
            "text/plain": [
              "['English', 'Science', 'GK', 'Computer', 'Statistics']"
            ]
          },
          "metadata": {},
          "execution_count": 25
        }
      ]
    },
    {
      "cell_type": "code",
      "source": [
        "num_lists = [3.4,True,5+6j,4,'Vinay']\n",
        "num_lists"
      ],
      "metadata": {
        "colab": {
          "base_uri": "https://localhost:8080/"
        },
        "id": "2VtYuWW4rhau",
        "outputId": "6bd173f7-2c01-4369-afbe-051f4403fdef"
      },
      "execution_count": null,
      "outputs": [
        {
          "output_type": "execute_result",
          "data": {
            "text/plain": [
              "[3.4, True, (5+6j), 4, 'Vinay']"
            ]
          },
          "metadata": {},
          "execution_count": 26
        }
      ]
    },
    {
      "cell_type": "code",
      "source": [
        "num_lists = [3.4,True,5+6j,4,'Vinay']\n",
        "num_lists[3]"
      ],
      "metadata": {
        "colab": {
          "base_uri": "https://localhost:8080/"
        },
        "id": "-mPFpndmsWGs",
        "outputId": "3b6730dd-d6db-43ff-84ee-adb57cde1bf7"
      },
      "execution_count": null,
      "outputs": [
        {
          "output_type": "execute_result",
          "data": {
            "text/plain": [
              "4"
            ]
          },
          "metadata": {},
          "execution_count": 28
        }
      ]
    },
    {
      "cell_type": "code",
      "source": [
        "num_lists = [3.4,True,5+6j,4,'Vinay']\n",
        "num_lists[4] = 'Kirti'\n",
        "num_lists"
      ],
      "metadata": {
        "colab": {
          "base_uri": "https://localhost:8080/"
        },
        "id": "levWu3SvsZxk",
        "outputId": "c4523274-4b4d-49f9-c264-d0f3f662796b"
      },
      "execution_count": null,
      "outputs": [
        {
          "output_type": "execute_result",
          "data": {
            "text/plain": [
              "[3.4, True, (5+6j), 4, 'Kirti']"
            ]
          },
          "metadata": {},
          "execution_count": 29
        }
      ]
    },
    {
      "cell_type": "code",
      "source": [
        "num_lists.append('Maths')\n",
        "num_lists"
      ],
      "metadata": {
        "colab": {
          "base_uri": "https://localhost:8080/"
        },
        "id": "l1RZui6MslHP",
        "outputId": "bb410b62-82a6-48a8-f47d-2aece9cd18ae"
      },
      "execution_count": null,
      "outputs": [
        {
          "output_type": "execute_result",
          "data": {
            "text/plain": [
              "[3.4, True, (5+6j), 4, 'Kirti', 'Maths']"
            ]
          },
          "metadata": {},
          "execution_count": 30
        }
      ]
    },
    {
      "cell_type": "code",
      "source": [
        "num_lists.append([4,7.8])                          #add a lists to the existing list\n",
        "num_lists"
      ],
      "metadata": {
        "colab": {
          "base_uri": "https://localhost:8080/"
        },
        "id": "oyrB_bvBsuSq",
        "outputId": "9bbaa623-1f55-4145-c760-96a01fab4bcb"
      },
      "execution_count": null,
      "outputs": [
        {
          "output_type": "execute_result",
          "data": {
            "text/plain": [
              "[3.4, True, (5+6j), 4, 'Kirti', 'Maths', [4, 7.8]]"
            ]
          },
          "metadata": {},
          "execution_count": 31
        }
      ]
    },
    {
      "cell_type": "code",
      "source": [
        "num_lists.remove(True)\n",
        "num_lists"
      ],
      "metadata": {
        "colab": {
          "base_uri": "https://localhost:8080/"
        },
        "id": "3HZiPVJ6s9PT",
        "outputId": "965e5a3a-745d-4eab-ed74-033995d7e839"
      },
      "execution_count": null,
      "outputs": [
        {
          "output_type": "execute_result",
          "data": {
            "text/plain": [
              "[3.4, (5+6j), 4, 'Kirti', 'Maths', [4, 7.8]]"
            ]
          },
          "metadata": {},
          "execution_count": 33
        }
      ]
    },
    {
      "cell_type": "markdown",
      "source": [
        "Q4) Compare and contrast tuples and lists with examples.\n",
        "\n",
        " Ans-**Tuples**-\n",
        " a) It is an ordered collection of elements.\n",
        " b) It stores hetrogeneous data i.e. the elements may be of different data types such as integer,float,string,complex.\n",
        " c) It is immutable i.e. the elements of the lists are not accessible and can not be changed accordingly.\n",
        "                            whereas\n",
        "\n",
        "   **Lists**-  \n",
        " a) It is also an ordered collection of elements.\n",
        " b) It also stores hetrogeneous data i.e. the elements may be of different data types such as integer,float,string,complex.\n",
        " c) It is mutable i.e. the elements of the lists are accessible and can be changed accordingly."
      ],
      "metadata": {
        "id": "MAeSb83ZtLOP"
      }
    },
    {
      "cell_type": "code",
      "source": [
        "#examples of tuples\n",
        "\n",
        "t = ()\n",
        "type(t)"
      ],
      "metadata": {
        "colab": {
          "base_uri": "https://localhost:8080/"
        },
        "id": "cq6BNiSfGCtf",
        "outputId": "545b647e-5fd0-45a6-ae84-9e3c5424f972"
      },
      "execution_count": 1,
      "outputs": [
        {
          "output_type": "execute_result",
          "data": {
            "text/plain": [
              "tuple"
            ]
          },
          "metadata": {},
          "execution_count": 1
        }
      ]
    },
    {
      "cell_type": "code",
      "source": [
        "a = (1,8.8,'Kavita',True,6+7j,False)      #ordered collection of heterogeneous elements\n",
        "type(a)"
      ],
      "metadata": {
        "colab": {
          "base_uri": "https://localhost:8080/"
        },
        "id": "GDgUdAadGfVR",
        "outputId": "44f9c5a4-7a23-4bd8-c477-41f762b9cda8"
      },
      "execution_count": 4,
      "outputs": [
        {
          "output_type": "execute_result",
          "data": {
            "text/plain": [
              "tuple"
            ]
          },
          "metadata": {},
          "execution_count": 4
        }
      ]
    },
    {
      "cell_type": "code",
      "source": [
        "a[0]                                      #access the elements"
      ],
      "metadata": {
        "colab": {
          "base_uri": "https://localhost:8080/"
        },
        "id": "g-uqbCDzG_Xy",
        "outputId": "45101af5-3056-46c1-f172-8507ee8ff70f"
      },
      "execution_count": 5,
      "outputs": [
        {
          "output_type": "execute_result",
          "data": {
            "text/plain": [
              "1"
            ]
          },
          "metadata": {},
          "execution_count": 5
        }
      ]
    },
    {
      "cell_type": "code",
      "source": [
        "a[4]"
      ],
      "metadata": {
        "colab": {
          "base_uri": "https://localhost:8080/"
        },
        "id": "YKomie8uHB2X",
        "outputId": "2bec3012-e8e7-41ae-c57d-961614c893bc"
      },
      "execution_count": 6,
      "outputs": [
        {
          "output_type": "execute_result",
          "data": {
            "text/plain": [
              "(6+7j)"
            ]
          },
          "metadata": {},
          "execution_count": 6
        }
      ]
    },
    {
      "cell_type": "code",
      "source": [
        "type(a[3])"
      ],
      "metadata": {
        "colab": {
          "base_uri": "https://localhost:8080/"
        },
        "id": "c7SECaE3HGYJ",
        "outputId": "5584dce1-e02e-4bc5-884d-1dd824cf422e"
      },
      "execution_count": 7,
      "outputs": [
        {
          "output_type": "execute_result",
          "data": {
            "text/plain": [
              "bool"
            ]
          },
          "metadata": {},
          "execution_count": 7
        }
      ]
    },
    {
      "cell_type": "code",
      "source": [
        "a[-1] = 'Krishna'                         #not able the modify the element that's why called immutable"
      ],
      "metadata": {
        "colab": {
          "base_uri": "https://localhost:8080/",
          "height": 141
        },
        "id": "Dx0GLRb8HNqg",
        "outputId": "b6c69aea-beb8-428d-f3d3-4cb5ee69aef5"
      },
      "execution_count": 8,
      "outputs": [
        {
          "output_type": "error",
          "ename": "TypeError",
          "evalue": "'tuple' object does not support item assignment",
          "traceback": [
            "\u001b[0;31m---------------------------------------------------------------------------\u001b[0m",
            "\u001b[0;31mTypeError\u001b[0m                                 Traceback (most recent call last)",
            "\u001b[0;32m<ipython-input-8-b71f94453a45>\u001b[0m in \u001b[0;36m<cell line: 1>\u001b[0;34m()\u001b[0m\n\u001b[0;32m----> 1\u001b[0;31m \u001b[0ma\u001b[0m\u001b[0;34m[\u001b[0m\u001b[0;34m-\u001b[0m\u001b[0;36m1\u001b[0m\u001b[0;34m]\u001b[0m \u001b[0;34m=\u001b[0m \u001b[0;34m'Krishna'\u001b[0m\u001b[0;34m\u001b[0m\u001b[0;34m\u001b[0m\u001b[0m\n\u001b[0m",
            "\u001b[0;31mTypeError\u001b[0m: 'tuple' object does not support item assignment"
          ]
        }
      ]
    },
    {
      "cell_type": "code",
      "source": [
        "a[:3]                 #slicing of tuples"
      ],
      "metadata": {
        "colab": {
          "base_uri": "https://localhost:8080/"
        },
        "id": "ghgFipGkIohn",
        "outputId": "bff5200f-9fca-45be-bd9b-44cc33046e92"
      },
      "execution_count": 16,
      "outputs": [
        {
          "output_type": "execute_result",
          "data": {
            "text/plain": [
              "(1, 8.8, 'Kavita')"
            ]
          },
          "metadata": {},
          "execution_count": 16
        }
      ]
    },
    {
      "cell_type": "code",
      "source": [
        "a[-1]"
      ],
      "metadata": {
        "colab": {
          "base_uri": "https://localhost:8080/"
        },
        "id": "gmOAKw0yH0Ib",
        "outputId": "070a891e-5e09-46ca-e287-9f8369f7782e"
      },
      "execution_count": 9,
      "outputs": [
        {
          "output_type": "execute_result",
          "data": {
            "text/plain": [
              "False"
            ]
          },
          "metadata": {},
          "execution_count": 9
        }
      ]
    },
    {
      "cell_type": "code",
      "source": [
        "box_1=('a','b')\n",
        "box_2=('c','d')\n",
        "bag = (box_1, box_2)\n",
        "bag"
      ],
      "metadata": {
        "colab": {
          "base_uri": "https://localhost:8080/"
        },
        "id": "bIbbiEW0Ka1V",
        "outputId": "a34ca720-7493-44a8-fada-d34e0eb1a183"
      },
      "execution_count": 22,
      "outputs": [
        {
          "output_type": "execute_result",
          "data": {
            "text/plain": [
              "(('a', 'b'), ('c', 'd'))"
            ]
          },
          "metadata": {},
          "execution_count": 22
        }
      ]
    },
    {
      "cell_type": "code",
      "source": [
        "first_name = ('Kirti')                #concatenation of tuples\n",
        "last_name = (' Gupta')\n",
        "first_name+last_name"
      ],
      "metadata": {
        "colab": {
          "base_uri": "https://localhost:8080/",
          "height": 36
        },
        "id": "Xs4ChO1IKfwJ",
        "outputId": "cdd92909-4f1b-491b-b998-ff99058a7a59"
      },
      "execution_count": 23,
      "outputs": [
        {
          "output_type": "execute_result",
          "data": {
            "text/plain": [
              "'Kirti Gupta'"
            ],
            "application/vnd.google.colaboratory.intrinsic+json": {
              "type": "string"
            }
          },
          "metadata": {},
          "execution_count": 23
        }
      ]
    },
    {
      "cell_type": "code",
      "source": [
        "#examples of lists                                      #ordered collection of heterogeneous elements\n",
        "\n",
        "list = ['namish','Vibha',3,True,8+2j,-33]\n",
        "type(list)"
      ],
      "metadata": {
        "colab": {
          "base_uri": "https://localhost:8080/"
        },
        "id": "bELnIr0fH3NR",
        "outputId": "5ac52adb-a818-4769-c389-595de7ec672a"
      },
      "execution_count": 12,
      "outputs": [
        {
          "output_type": "execute_result",
          "data": {
            "text/plain": [
              "list"
            ]
          },
          "metadata": {},
          "execution_count": 12
        }
      ]
    },
    {
      "cell_type": "code",
      "source": [
        "list[-2]"
      ],
      "metadata": {
        "colab": {
          "base_uri": "https://localhost:8080/"
        },
        "id": "_HtH0aITIEA1",
        "outputId": "45f57ec5-00cb-4518-a0f4-888e8185dba2"
      },
      "execution_count": 13,
      "outputs": [
        {
          "output_type": "execute_result",
          "data": {
            "text/plain": [
              "(8+2j)"
            ]
          },
          "metadata": {},
          "execution_count": 13
        }
      ]
    },
    {
      "cell_type": "code",
      "source": [
        "list[1]= \"Vinayak\"                             #change the element that's why mutable\n",
        "list"
      ],
      "metadata": {
        "colab": {
          "base_uri": "https://localhost:8080/"
        },
        "id": "o1naoGt1IaG5",
        "outputId": "856c9639-02c2-4217-c7bc-0ae69ab0a1bd"
      },
      "execution_count": 14,
      "outputs": [
        {
          "output_type": "execute_result",
          "data": {
            "text/plain": [
              "['namish', 'Vinayak', 3, True, (8+2j), -33]"
            ]
          },
          "metadata": {},
          "execution_count": 14
        }
      ]
    },
    {
      "cell_type": "code",
      "source": [
        "list[::1]                                  #slicing of lists"
      ],
      "metadata": {
        "colab": {
          "base_uri": "https://localhost:8080/"
        },
        "id": "A4gixLOYIiOS",
        "outputId": "a3222fd9-d39b-4cb8-94c2-d88f1c2c82ec"
      },
      "execution_count": 15,
      "outputs": [
        {
          "output_type": "execute_result",
          "data": {
            "text/plain": [
              "['namish', 'Vinayak', 3, True, (8+2j), -33]"
            ]
          },
          "metadata": {},
          "execution_count": 15
        }
      ]
    },
    {
      "cell_type": "code",
      "source": [
        "type(bag)"
      ],
      "metadata": {
        "colab": {
          "base_uri": "https://localhost:8080/"
        },
        "id": "jP6v2dfvJ1hZ",
        "outputId": "4b3466f2-4079-4f88-9f73-07ea8f37a55b"
      },
      "execution_count": 20,
      "outputs": [
        {
          "output_type": "execute_result",
          "data": {
            "text/plain": [
              "tuple"
            ]
          },
          "metadata": {},
          "execution_count": 20
        }
      ]
    },
    {
      "cell_type": "code",
      "source": [
        "list_1 = ['Vipin','Neha','Kartik']        #concatenation of lists\n",
        "list_2 = ['Sakshi','Vijay']\n",
        "list_1+list_2"
      ],
      "metadata": {
        "colab": {
          "base_uri": "https://localhost:8080/"
        },
        "id": "eS4-6-J_Mlwn",
        "outputId": "52f5ea86-5de1-4841-e779-92e1eb23ffeb"
      },
      "execution_count": 31,
      "outputs": [
        {
          "output_type": "execute_result",
          "data": {
            "text/plain": [
              "['Vipin', 'Neha', 'Kartik', 'Sakshi', 'Vijay']"
            ]
          },
          "metadata": {},
          "execution_count": 31
        }
      ]
    },
    {
      "cell_type": "markdown",
      "source": [
        "Q5) Describe the key features of sets and provide examples of their use.\n",
        "\n",
        "Ans- The key features of sets are as follows:\n",
        " a) It is an unordered collection of unique elements.\n",
        " b) It stores heterogeneous data i.e. elements of different data type.\n",
        " c) It is immutable i.e. accessing of elements is not possible."
      ],
      "metadata": {
        "id": "sKyyOTcCNGFu"
      }
    },
    {
      "cell_type": "code",
      "source": [
        "#some use cases of sets are\n",
        "\n",
        "s = {1,5,7,3,4,2,7,1,4,5,7,3}\n",
        "type(s)"
      ],
      "metadata": {
        "colab": {
          "base_uri": "https://localhost:8080/"
        },
        "id": "GZqbcFFWPF31",
        "outputId": "319cca3d-7a68-42b5-a4f8-69a6c23cf4bd"
      },
      "execution_count": 33,
      "outputs": [
        {
          "output_type": "execute_result",
          "data": {
            "text/plain": [
              "set"
            ]
          },
          "metadata": {},
          "execution_count": 33
        }
      ]
    },
    {
      "cell_type": "code",
      "source": [
        "s                                   #it provides onle unique elements"
      ],
      "metadata": {
        "colab": {
          "base_uri": "https://localhost:8080/"
        },
        "id": "ifIXphXXPb8i",
        "outputId": "496c7b3f-1f09-4c75-894c-ffe6233d7686"
      },
      "execution_count": 34,
      "outputs": [
        {
          "output_type": "execute_result",
          "data": {
            "text/plain": [
              "{1, 2, 3, 4, 5, 7}"
            ]
          },
          "metadata": {},
          "execution_count": 34
        }
      ]
    },
    {
      "cell_type": "code",
      "source": [
        "name = {'Blue','Orange','Apple','Orange','Blue','Pink','Apple'}\n",
        "name"
      ],
      "metadata": {
        "colab": {
          "base_uri": "https://localhost:8080/"
        },
        "id": "w6i2fP_RPkI_",
        "outputId": "f4dd8974-7e61-4cf0-8872-1982a22f3b07"
      },
      "execution_count": 35,
      "outputs": [
        {
          "output_type": "execute_result",
          "data": {
            "text/plain": [
              "{'Apple', 'Blue', 'Orange', 'Pink'}"
            ]
          },
          "metadata": {},
          "execution_count": 35
        }
      ]
    },
    {
      "cell_type": "code",
      "source": [
        "log = {True,True,False,True,False,False,True}\n",
        "log"
      ],
      "metadata": {
        "colab": {
          "base_uri": "https://localhost:8080/"
        },
        "id": "Alc4zqAsP44i",
        "outputId": "e24f4139-5321-4e3b-9f84-55007c579db1"
      },
      "execution_count": 36,
      "outputs": [
        {
          "output_type": "execute_result",
          "data": {
            "text/plain": [
              "{False, True}"
            ]
          },
          "metadata": {},
          "execution_count": 36
        }
      ]
    },
    {
      "cell_type": "code",
      "source": [
        "s"
      ],
      "metadata": {
        "colab": {
          "base_uri": "https://localhost:8080/"
        },
        "id": "cFm4CKqNQGrC",
        "outputId": "b83e9ffd-78d8-47fc-ff38-0fbe31d5ce31"
      },
      "execution_count": 37,
      "outputs": [
        {
          "output_type": "execute_result",
          "data": {
            "text/plain": [
              "{1, 2, 3, 4, 5, 7}"
            ]
          },
          "metadata": {},
          "execution_count": 37
        }
      ]
    },
    {
      "cell_type": "code",
      "source": [
        "s[3]         #accessing of element is not possible because of unordered and unique element"
      ],
      "metadata": {
        "colab": {
          "base_uri": "https://localhost:8080/",
          "height": 141
        },
        "id": "83PPqSF7QIUF",
        "outputId": "0d05cf3b-7bfe-4837-c903-2e787211a2b9"
      },
      "execution_count": 38,
      "outputs": [
        {
          "output_type": "error",
          "ename": "TypeError",
          "evalue": "'set' object is not subscriptable",
          "traceback": [
            "\u001b[0;31m---------------------------------------------------------------------------\u001b[0m",
            "\u001b[0;31mTypeError\u001b[0m                                 Traceback (most recent call last)",
            "\u001b[0;32m<ipython-input-38-354d6d7fa2e4>\u001b[0m in \u001b[0;36m<cell line: 1>\u001b[0;34m()\u001b[0m\n\u001b[0;32m----> 1\u001b[0;31m \u001b[0ms\u001b[0m\u001b[0;34m[\u001b[0m\u001b[0;36m3\u001b[0m\u001b[0;34m]\u001b[0m\u001b[0;34m\u001b[0m\u001b[0;34m\u001b[0m\u001b[0m\n\u001b[0m",
            "\u001b[0;31mTypeError\u001b[0m: 'set' object is not subscriptable"
          ]
        }
      ]
    },
    {
      "cell_type": "code",
      "source": [
        "name"
      ],
      "metadata": {
        "colab": {
          "base_uri": "https://localhost:8080/"
        },
        "id": "SuoBNf73QW1x",
        "outputId": "c5492f98-1719-4276-f5a2-02e1769ecf38"
      },
      "execution_count": 39,
      "outputs": [
        {
          "output_type": "execute_result",
          "data": {
            "text/plain": [
              "{'Apple', 'Blue', 'Orange', 'Pink'}"
            ]
          },
          "metadata": {},
          "execution_count": 39
        }
      ]
    },
    {
      "cell_type": "code",
      "source": [
        "name.add('Pink')            #pink is already there in the set that's why no change in the set elements\n",
        "name"
      ],
      "metadata": {
        "colab": {
          "base_uri": "https://localhost:8080/"
        },
        "id": "6zEJpka5Qbds",
        "outputId": "caa19dca-48e2-4123-bada-6b3e2830ae12"
      },
      "execution_count": 40,
      "outputs": [
        {
          "output_type": "execute_result",
          "data": {
            "text/plain": [
              "{'Apple', 'Blue', 'Orange', 'Pink'}"
            ]
          },
          "metadata": {},
          "execution_count": 40
        }
      ]
    },
    {
      "cell_type": "code",
      "source": [
        "name.add('violet')         #add violet to the set\n",
        "name"
      ],
      "metadata": {
        "colab": {
          "base_uri": "https://localhost:8080/"
        },
        "id": "inovyzHuQovz",
        "outputId": "52e8d25f-f806-42ee-eab6-1deb987d9a97"
      },
      "execution_count": 41,
      "outputs": [
        {
          "output_type": "execute_result",
          "data": {
            "text/plain": [
              "{'Apple', 'Blue', 'Orange', 'Pink', 'violet'}"
            ]
          },
          "metadata": {},
          "execution_count": 41
        }
      ]
    },
    {
      "cell_type": "code",
      "source": [
        "name.remove(\"Apple\")        #removes apple from the set\n",
        "name"
      ],
      "metadata": {
        "colab": {
          "base_uri": "https://localhost:8080/"
        },
        "id": "YafNVG86Qvyd",
        "outputId": "b04da90c-4901-4978-dd37-edbe03a8cf3d"
      },
      "execution_count": 42,
      "outputs": [
        {
          "output_type": "execute_result",
          "data": {
            "text/plain": [
              "{'Blue', 'Orange', 'Pink', 'violet'}"
            ]
          },
          "metadata": {},
          "execution_count": 42
        }
      ]
    },
    {
      "cell_type": "markdown",
      "source": [
        "Q6) Discuss the use cases of tuples and sets in Python Programming."
      ],
      "metadata": {
        "id": "6hvWAeAoRHtx"
      }
    },
    {
      "cell_type": "code",
      "source": [
        "#some use cases of tuples:\n",
        "\n",
        "tuple_1 = ('Data','Statistics','ML','Python','SQL')\n",
        "tuple_1"
      ],
      "metadata": {
        "colab": {
          "base_uri": "https://localhost:8080/"
        },
        "id": "HTYD0sLjRjyU",
        "outputId": "6ae4d89b-5019-4705-fea4-0dd1300322f7"
      },
      "execution_count": 46,
      "outputs": [
        {
          "output_type": "execute_result",
          "data": {
            "text/plain": [
              "('Data', 'Statistics', 'ML', 'Python', 'SQL')"
            ]
          },
          "metadata": {},
          "execution_count": 46
        }
      ]
    },
    {
      "cell_type": "code",
      "source": [
        "tuple_1 = ('Data','Statistics','ML','Python','SQL')             #concatenation of tuples\n",
        "tuple_2 = ('Statistics','Power Bi','Data','SQL','Data','ML','ML')\n",
        "tuple = tuple_1+tuple_2\n",
        "tuple"
      ],
      "metadata": {
        "colab": {
          "base_uri": "https://localhost:8080/"
        },
        "id": "XInPPquFSsix",
        "outputId": "fc5c419a-287f-4e0e-a4d2-c0ec7e8f4b61"
      },
      "execution_count": 53,
      "outputs": [
        {
          "output_type": "execute_result",
          "data": {
            "text/plain": [
              "('Data',\n",
              " 'Statistics',\n",
              " 'ML',\n",
              " 'Python',\n",
              " 'SQL',\n",
              " 'Statistics',\n",
              " 'Power Bi',\n",
              " 'Data',\n",
              " 'SQL',\n",
              " 'Data',\n",
              " 'ML',\n",
              " 'ML')"
            ]
          },
          "metadata": {},
          "execution_count": 53
        }
      ]
    },
    {
      "cell_type": "code",
      "source": [
        "tuple.count('ML')                       #gives how many times ML is repeated in tuple"
      ],
      "metadata": {
        "colab": {
          "base_uri": "https://localhost:8080/"
        },
        "id": "zbVXGgKHTRsr",
        "outputId": "ae8a3a53-19e1-4c14-bfeb-33467ee9a9e8"
      },
      "execution_count": 54,
      "outputs": [
        {
          "output_type": "execute_result",
          "data": {
            "text/plain": [
              "3"
            ]
          },
          "metadata": {},
          "execution_count": 54
        }
      ]
    },
    {
      "cell_type": "code",
      "source": [
        "tuple.count('Statistics')"
      ],
      "metadata": {
        "colab": {
          "base_uri": "https://localhost:8080/"
        },
        "id": "yn3nh1prTg2m",
        "outputId": "1f1aab9c-232a-4030-be11-a40fb31a2197"
      },
      "execution_count": 55,
      "outputs": [
        {
          "output_type": "execute_result",
          "data": {
            "text/plain": [
              "2"
            ]
          },
          "metadata": {},
          "execution_count": 55
        }
      ]
    },
    {
      "cell_type": "code",
      "source": [
        "tuple.count('Data')"
      ],
      "metadata": {
        "colab": {
          "base_uri": "https://localhost:8080/"
        },
        "id": "XPaOdXL6TnaY",
        "outputId": "6c65fa2d-c9d1-40c1-e487-d70865ad7229"
      },
      "execution_count": 56,
      "outputs": [
        {
          "output_type": "execute_result",
          "data": {
            "text/plain": [
              "3"
            ]
          },
          "metadata": {},
          "execution_count": 56
        }
      ]
    },
    {
      "cell_type": "code",
      "source": [
        "tuple_1"
      ],
      "metadata": {
        "colab": {
          "base_uri": "https://localhost:8080/"
        },
        "id": "Q5ogD2lzTtOH",
        "outputId": "a55b6d95-6c99-4568-9ad1-7ca861f40abd"
      },
      "execution_count": 57,
      "outputs": [
        {
          "output_type": "execute_result",
          "data": {
            "text/plain": [
              "('Data', 'Statistics', 'ML', 'Python', 'SQL')"
            ]
          },
          "metadata": {},
          "execution_count": 57
        }
      ]
    },
    {
      "cell_type": "code",
      "source": [
        "tuple_1.index('SQL')                      #gives the index of SQL"
      ],
      "metadata": {
        "colab": {
          "base_uri": "https://localhost:8080/"
        },
        "id": "9bEV90nhTvSG",
        "outputId": "1582238c-3b2e-4b8c-c761-907309a99e75"
      },
      "execution_count": 58,
      "outputs": [
        {
          "output_type": "execute_result",
          "data": {
            "text/plain": [
              "4"
            ]
          },
          "metadata": {},
          "execution_count": 58
        }
      ]
    },
    {
      "cell_type": "code",
      "source": [
        "tuple_2"
      ],
      "metadata": {
        "colab": {
          "base_uri": "https://localhost:8080/"
        },
        "id": "9jqjEjeMT1Nj",
        "outputId": "e4f8859e-3e77-4469-dce7-4e946d099ed2"
      },
      "execution_count": 59,
      "outputs": [
        {
          "output_type": "execute_result",
          "data": {
            "text/plain": [
              "('Statistics', 'Power Bi', 'Data', 'SQL', 'Data', 'ML', 'ML')"
            ]
          },
          "metadata": {},
          "execution_count": 59
        }
      ]
    },
    {
      "cell_type": "code",
      "source": [
        "tuple_2.index('ML')          #gives the index of element at 1st position"
      ],
      "metadata": {
        "colab": {
          "base_uri": "https://localhost:8080/"
        },
        "id": "kwXqHKnVT4iv",
        "outputId": "ca445f4a-2aaf-4766-a177-0588df3a7a3d"
      },
      "execution_count": 60,
      "outputs": [
        {
          "output_type": "execute_result",
          "data": {
            "text/plain": [
              "5"
            ]
          },
          "metadata": {},
          "execution_count": 60
        }
      ]
    },
    {
      "cell_type": "code",
      "source": [
        "a = (67,34,25,90,45,77,12)\n",
        "max(a)"
      ],
      "metadata": {
        "colab": {
          "base_uri": "https://localhost:8080/"
        },
        "id": "kf8emRdHUNlr",
        "outputId": "c0ac6935-e8bc-462a-d8be-f6e9e6bfbcb0"
      },
      "execution_count": 61,
      "outputs": [
        {
          "output_type": "execute_result",
          "data": {
            "text/plain": [
              "90"
            ]
          },
          "metadata": {},
          "execution_count": 61
        }
      ]
    },
    {
      "cell_type": "code",
      "source": [
        "min(a)"
      ],
      "metadata": {
        "colab": {
          "base_uri": "https://localhost:8080/"
        },
        "id": "v3bN-n82UVlO",
        "outputId": "fa742267-01d0-4811-c46b-7d7e0cfdeaaa"
      },
      "execution_count": 62,
      "outputs": [
        {
          "output_type": "execute_result",
          "data": {
            "text/plain": [
              "12"
            ]
          },
          "metadata": {},
          "execution_count": 62
        }
      ]
    },
    {
      "cell_type": "code",
      "source": [
        "#some use cases of sets:\n",
        "\n",
        "s = {'red',1,True,\"Nikhil\",9+7j,True,'red',1,'red',False,99,'Violet',False,99}\n",
        "s"
      ],
      "metadata": {
        "colab": {
          "base_uri": "https://localhost:8080/"
        },
        "id": "jKyqsoFNUz9O",
        "outputId": "ce88730d-96fc-4fca-ab8b-facc28422d6c"
      },
      "execution_count": 74,
      "outputs": [
        {
          "output_type": "execute_result",
          "data": {
            "text/plain": [
              "{(9+7j), 1, 99, False, 'Nikhil', 'Violet', 'red'}"
            ]
          },
          "metadata": {},
          "execution_count": 74
        }
      ]
    },
    {
      "cell_type": "code",
      "source": [
        "type(s)"
      ],
      "metadata": {
        "colab": {
          "base_uri": "https://localhost:8080/"
        },
        "id": "jkCB4qGRV6TV",
        "outputId": "245e7217-35ec-48d6-cc96-dfd8e18aaf03"
      },
      "execution_count": 73,
      "outputs": [
        {
          "output_type": "execute_result",
          "data": {
            "text/plain": [
              "set"
            ]
          },
          "metadata": {},
          "execution_count": 73
        }
      ]
    },
    {
      "cell_type": "code",
      "source": [
        "s.add(100)\n",
        "s"
      ],
      "metadata": {
        "colab": {
          "base_uri": "https://localhost:8080/"
        },
        "id": "rBGXhn-JWs45",
        "outputId": "24307743-418b-4a6b-ad94-c45882670bd6"
      },
      "execution_count": 75,
      "outputs": [
        {
          "output_type": "execute_result",
          "data": {
            "text/plain": [
              "{(9+7j), 1, 100, 99, False, 'Nikhil', 'Violet', 'red'}"
            ]
          },
          "metadata": {},
          "execution_count": 75
        }
      ]
    },
    {
      "cell_type": "code",
      "source": [
        "s.remove(9+7j)\n",
        "s"
      ],
      "metadata": {
        "colab": {
          "base_uri": "https://localhost:8080/"
        },
        "id": "72J1w8jNXBMR",
        "outputId": "a95fd8ed-b38b-44cc-932e-a97224c290e1"
      },
      "execution_count": 76,
      "outputs": [
        {
          "output_type": "execute_result",
          "data": {
            "text/plain": [
              "{1, 100, 99, False, 'Nikhil', 'Violet', 'red'}"
            ]
          },
          "metadata": {},
          "execution_count": 76
        }
      ]
    },
    {
      "cell_type": "code",
      "source": [
        "s.pop()           #pop randomly removes any value from the set"
      ],
      "metadata": {
        "colab": {
          "base_uri": "https://localhost:8080/"
        },
        "id": "-TgTJty1XK2j",
        "outputId": "5cbf2536-00f8-49d0-fe8f-de8db1b754e3"
      },
      "execution_count": 77,
      "outputs": [
        {
          "output_type": "execute_result",
          "data": {
            "text/plain": [
              "False"
            ]
          },
          "metadata": {},
          "execution_count": 77
        }
      ]
    },
    {
      "cell_type": "code",
      "source": [
        "s"
      ],
      "metadata": {
        "colab": {
          "base_uri": "https://localhost:8080/"
        },
        "id": "4tOpt0MQXOPu",
        "outputId": "fb45efb5-79a8-47c4-8cd4-4242c5a51ac3"
      },
      "execution_count": 78,
      "outputs": [
        {
          "output_type": "execute_result",
          "data": {
            "text/plain": [
              "{1, 100, 99, 'Nikhil', 'Violet', 'red'}"
            ]
          },
          "metadata": {},
          "execution_count": 78
        }
      ]
    },
    {
      "cell_type": "code",
      "source": [
        "s.remove(4)         #it does throws an error as 4 is not an element of set s"
      ],
      "metadata": {
        "colab": {
          "base_uri": "https://localhost:8080/",
          "height": 141
        },
        "id": "AGFFGII6XWX-",
        "outputId": "ee760841-e13a-4cc0-e29b-83c1d2735756"
      },
      "execution_count": 79,
      "outputs": [
        {
          "output_type": "error",
          "ename": "KeyError",
          "evalue": "4",
          "traceback": [
            "\u001b[0;31m---------------------------------------------------------------------------\u001b[0m",
            "\u001b[0;31mKeyError\u001b[0m                                  Traceback (most recent call last)",
            "\u001b[0;32m<ipython-input-79-758cf2d329e6>\u001b[0m in \u001b[0;36m<cell line: 1>\u001b[0;34m()\u001b[0m\n\u001b[0;32m----> 1\u001b[0;31m \u001b[0ms\u001b[0m\u001b[0;34m.\u001b[0m\u001b[0mremove\u001b[0m\u001b[0;34m(\u001b[0m\u001b[0;36m4\u001b[0m\u001b[0;34m)\u001b[0m\u001b[0;34m\u001b[0m\u001b[0;34m\u001b[0m\u001b[0m\n\u001b[0m",
            "\u001b[0;31mKeyError\u001b[0m: 4"
          ]
        }
      ]
    },
    {
      "cell_type": "code",
      "source": [
        "s.discard(4)          #it doesn't throw an error even if 4 is not the element of set s"
      ],
      "metadata": {
        "id": "83SRthf8XkAI"
      },
      "execution_count": 80,
      "outputs": []
    },
    {
      "cell_type": "code",
      "source": [
        "s.clear()              #it removes all the emements of set s\n",
        "s"
      ],
      "metadata": {
        "colab": {
          "base_uri": "https://localhost:8080/"
        },
        "id": "AhN33rr5X7D5",
        "outputId": "8a20a396-e8bd-4adb-95f6-33e0ce1faf55"
      },
      "execution_count": 82,
      "outputs": [
        {
          "output_type": "execute_result",
          "data": {
            "text/plain": [
              "set()"
            ]
          },
          "metadata": {},
          "execution_count": 82
        }
      ]
    },
    {
      "cell_type": "code",
      "source": [
        "del s               #deletes the set and its elements\n",
        "s"
      ],
      "metadata": {
        "colab": {
          "base_uri": "https://localhost:8080/",
          "height": 158
        },
        "id": "Yxy8VidGYJX-",
        "outputId": "c8fb7c24-612f-425a-f886-1a877ccffe97"
      },
      "execution_count": 84,
      "outputs": [
        {
          "output_type": "error",
          "ename": "NameError",
          "evalue": "name 's' is not defined",
          "traceback": [
            "\u001b[0;31m---------------------------------------------------------------------------\u001b[0m",
            "\u001b[0;31mNameError\u001b[0m                                 Traceback (most recent call last)",
            "\u001b[0;32m<ipython-input-84-6dc87e9be4d5>\u001b[0m in \u001b[0;36m<cell line: 2>\u001b[0;34m()\u001b[0m\n\u001b[1;32m      1\u001b[0m \u001b[0;32mdel\u001b[0m \u001b[0ms\u001b[0m\u001b[0;34m\u001b[0m\u001b[0;34m\u001b[0m\u001b[0m\n\u001b[0;32m----> 2\u001b[0;31m \u001b[0ms\u001b[0m\u001b[0;34m\u001b[0m\u001b[0;34m\u001b[0m\u001b[0m\n\u001b[0m",
            "\u001b[0;31mNameError\u001b[0m: name 's' is not defined"
          ]
        }
      ]
    },
    {
      "cell_type": "code",
      "source": [
        "s1 = {'red','apple','Kirti','Blue'}\n",
        "s2 = {'Kirti','pink','Orange','Blue'}\n",
        "s1|s2                                         #this gives all the elements of s1 and s2"
      ],
      "metadata": {
        "colab": {
          "base_uri": "https://localhost:8080/"
        },
        "id": "6umcX4rkZKdX",
        "outputId": "830eac76-42d6-499c-9a5d-3e0356b95e51"
      },
      "execution_count": 85,
      "outputs": [
        {
          "output_type": "execute_result",
          "data": {
            "text/plain": [
              "{'Blue', 'Kirti', 'Orange', 'apple', 'pink', 'red'}"
            ]
          },
          "metadata": {},
          "execution_count": 85
        }
      ]
    },
    {
      "cell_type": "code",
      "source": [
        "s1 & s2                                       #this gives the common element of s1 and s2"
      ],
      "metadata": {
        "colab": {
          "base_uri": "https://localhost:8080/"
        },
        "id": "xcmp_kyaZ8Ws",
        "outputId": "da0c0cee-8e9c-45c6-b40b-54c289c7c828"
      },
      "execution_count": 86,
      "outputs": [
        {
          "output_type": "execute_result",
          "data": {
            "text/plain": [
              "{'Blue', 'Kirti'}"
            ]
          },
          "metadata": {},
          "execution_count": 86
        }
      ]
    },
    {
      "cell_type": "code",
      "source": [
        "s1 - s2                                       #this removes the element of s2 from s1"
      ],
      "metadata": {
        "colab": {
          "base_uri": "https://localhost:8080/"
        },
        "id": "O6niZhvsaNc8",
        "outputId": "d844e2d1-9096-4a2a-f708-07e52d904838"
      },
      "execution_count": 87,
      "outputs": [
        {
          "output_type": "execute_result",
          "data": {
            "text/plain": [
              "{'apple', 'red'}"
            ]
          },
          "metadata": {},
          "execution_count": 87
        }
      ]
    },
    {
      "cell_type": "code",
      "source": [
        "s1 ^ s2                                       #this gives the non common elements"
      ],
      "metadata": {
        "colab": {
          "base_uri": "https://localhost:8080/"
        },
        "id": "OwjrGz7aaXvF",
        "outputId": "3c69a1b4-ad79-4da6-e242-1ca483d35bb3"
      },
      "execution_count": 88,
      "outputs": [
        {
          "output_type": "execute_result",
          "data": {
            "text/plain": [
              "{'Orange', 'apple', 'pink', 'red'}"
            ]
          },
          "metadata": {},
          "execution_count": 88
        }
      ]
    },
    {
      "cell_type": "markdown",
      "source": [
        "Q7) Describe how to add,modify and delete items in a dictionary with examples.\n",
        "\n",
        "Ans- We can see how to add,modify and delete items in a dictionary with the help of some examples-"
      ],
      "metadata": {
        "id": "4vCC9p99agIP"
      }
    },
    {
      "cell_type": "code",
      "source": [
        "dict = {'name':'Kirti Gupta','Course':'Data Analytics',}\n",
        "type(dict)"
      ],
      "metadata": {
        "colab": {
          "base_uri": "https://localhost:8080/"
        },
        "id": "5hJKQq1bbQ3b",
        "outputId": "22574bc8-ebb5-4687-a4d0-0b467527eab5"
      },
      "execution_count": 89,
      "outputs": [
        {
          "output_type": "execute_result",
          "data": {
            "text/plain": [
              "dict"
            ]
          },
          "metadata": {},
          "execution_count": 89
        }
      ]
    },
    {
      "cell_type": "code",
      "source": [
        "#adding elements in a dictionary\n",
        "\n",
        "dict['address']='Maharashtra'                 #1st method\n",
        "dict"
      ],
      "metadata": {
        "colab": {
          "base_uri": "https://localhost:8080/"
        },
        "id": "B46YrcTqbFl7",
        "outputId": "150f8735-6923-460c-a24a-9a34ff823cc9"
      },
      "execution_count": 90,
      "outputs": [
        {
          "output_type": "execute_result",
          "data": {
            "text/plain": [
              "{'name': 'Kirti Gupta', 'Course': 'Data Analytics', 'address': 'Maharashtra'}"
            ]
          },
          "metadata": {},
          "execution_count": 90
        }
      ]
    },
    {
      "cell_type": "code",
      "source": [
        "d = {'email':'kirtigupta191999@gmail.com'}    #2nd method\n",
        "dict.update(d)\n",
        "dict\n"
      ],
      "metadata": {
        "colab": {
          "base_uri": "https://localhost:8080/"
        },
        "id": "LXSOm5f3dcii",
        "outputId": "5ac968d8-5612-48e8-bf60-b2ca54506c1b"
      },
      "execution_count": 94,
      "outputs": [
        {
          "output_type": "execute_result",
          "data": {
            "text/plain": [
              "{'name': 'Kirti Gupta',\n",
              " 'Course': 'Data Analytics',\n",
              " 'address': 'Maharashtra',\n",
              " 'email': 'kirtigupta191999@gmail.com'}"
            ]
          },
          "metadata": {},
          "execution_count": 94
        }
      ]
    },
    {
      "cell_type": "code",
      "source": [
        "d1 = {'State':'UP','Country':'India'}\n",
        "dict.update(d1)\n",
        "dict"
      ],
      "metadata": {
        "colab": {
          "base_uri": "https://localhost:8080/"
        },
        "id": "soEGVRX6d71d",
        "outputId": "36b91eef-cc9a-4a4d-ef89-73553f91af1e"
      },
      "execution_count": 96,
      "outputs": [
        {
          "output_type": "execute_result",
          "data": {
            "text/plain": [
              "{'name': 'Kirti Gupta',\n",
              " 'Course': 'Data Analytics',\n",
              " 'address': 'Maharashtra',\n",
              " 'email': 'kirtigupta191999@gmail.com',\n",
              " 'State': 'UP',\n",
              " 'Country': 'India'}"
            ]
          },
          "metadata": {},
          "execution_count": 96
        }
      ]
    },
    {
      "cell_type": "code",
      "source": [
        "#modification of elements\n",
        "\n",
        "dict['email']"
      ],
      "metadata": {
        "colab": {
          "base_uri": "https://localhost:8080/",
          "height": 36
        },
        "id": "DZLdFxD-eSnS",
        "outputId": "ed0ce0a4-6802-4c8e-b4f9-0de3763600d5"
      },
      "execution_count": 98,
      "outputs": [
        {
          "output_type": "execute_result",
          "data": {
            "text/plain": [
              "'kirtigupta191999@gmail.com'"
            ],
            "application/vnd.google.colaboratory.intrinsic+json": {
              "type": "string"
            }
          },
          "metadata": {},
          "execution_count": 98
        }
      ]
    },
    {
      "cell_type": "code",
      "source": [
        "dict['email']='gupta@123'\n",
        "dict"
      ],
      "metadata": {
        "colab": {
          "base_uri": "https://localhost:8080/"
        },
        "id": "riG-CjZfebk0",
        "outputId": "cc385497-1f0f-4a3d-f072-2af82c001212"
      },
      "execution_count": 99,
      "outputs": [
        {
          "output_type": "execute_result",
          "data": {
            "text/plain": [
              "{'name': 'Kirti Gupta',\n",
              " 'Course': 'Data Analytics',\n",
              " 'address': 'Maharashtra',\n",
              " 'email': 'gupta@123',\n",
              " 'State': 'UP',\n",
              " 'Country': 'India'}"
            ]
          },
          "metadata": {},
          "execution_count": 99
        }
      ]
    },
    {
      "cell_type": "code",
      "source": [
        "dict['name']='Bipin'\n",
        "dict"
      ],
      "metadata": {
        "colab": {
          "base_uri": "https://localhost:8080/"
        },
        "id": "WXtlHBMmepEO",
        "outputId": "814cc042-a978-418f-d851-9d397d148fb9"
      },
      "execution_count": 100,
      "outputs": [
        {
          "output_type": "execute_result",
          "data": {
            "text/plain": [
              "{'name': 'Bipin',\n",
              " 'Course': 'Data Analytics',\n",
              " 'address': 'Maharashtra',\n",
              " 'email': 'gupta@123',\n",
              " 'State': 'UP',\n",
              " 'Country': 'India'}"
            ]
          },
          "metadata": {},
          "execution_count": 100
        }
      ]
    },
    {
      "cell_type": "code",
      "source": [
        "#deleting elements\n",
        "\n",
        "del dict['Country']\n",
        "dict"
      ],
      "metadata": {
        "colab": {
          "base_uri": "https://localhost:8080/"
        },
        "id": "MA2gZiXyezHS",
        "outputId": "89ee58c6-8f84-4df7-cdd1-0948ff52a130"
      },
      "execution_count": 101,
      "outputs": [
        {
          "output_type": "execute_result",
          "data": {
            "text/plain": [
              "{'name': 'Bipin',\n",
              " 'Course': 'Data Analytics',\n",
              " 'address': 'Maharashtra',\n",
              " 'email': 'gupta@123',\n",
              " 'State': 'UP'}"
            ]
          },
          "metadata": {},
          "execution_count": 101
        }
      ]
    },
    {
      "cell_type": "code",
      "source": [
        "del dict['email']\n",
        "dict"
      ],
      "metadata": {
        "colab": {
          "base_uri": "https://localhost:8080/"
        },
        "id": "Eup6yXE3fgIy",
        "outputId": "6f542d51-80d2-4701-db5e-8d9e58a692fb"
      },
      "execution_count": 107,
      "outputs": [
        {
          "output_type": "execute_result",
          "data": {
            "text/plain": [
              "{'Course': 'Data Analytics', 'address': 'Maharashtra', 'State': 'UP'}"
            ]
          },
          "metadata": {},
          "execution_count": 107
        }
      ]
    },
    {
      "cell_type": "markdown",
      "source": [
        "Q8) Discuss the importance of dictionary keys being immutable and provide examples.\n",
        "\n",
        "Ans- A dictionary in Python is a collection of key-value pairs, where each key is associated with a value. The keys and values can be of any data types such as strings, numbers, or even tuples and lists. The important thing to remember is that keys must be unique, whereas values may not be unique.\n",
        "\n",
        "In a dictionary, the key part must be immutable. This means that once a key is created, it cannot be changed. Immutability is essential for keys because it ensures that the dictionary can efficiently look up values based on their keys. If a key was mutable, its hash value could change, making it impossible to find the associated value in the dictionary."
      ],
      "metadata": {
        "id": "buZaPO7bgB9a"
      }
    },
    {
      "cell_type": "code",
      "source": [
        "d = {'name': 'Kirti Gupta',\n",
        " 'Course': 'Data Analytics',\n",
        " 'address': 'Maharashtra',\n",
        " 'email': 'kirtigupta191999@gmail.com',\n",
        " 'State': 'UP',\n",
        " 'Country': 'India'}\n",
        "d.keys()              #here these keys are immutable"
      ],
      "metadata": {
        "colab": {
          "base_uri": "https://localhost:8080/"
        },
        "id": "hyVlWZNAhqbz",
        "outputId": "791d3570-0e04-4d37-c462-d273ac1536e5"
      },
      "execution_count": 111,
      "outputs": [
        {
          "output_type": "execute_result",
          "data": {
            "text/plain": [
              "dict_keys(['name', 'Course', 'address', 'email', 'State', 'Country'])"
            ]
          },
          "metadata": {},
          "execution_count": 111
        }
      ]
    },
    {
      "cell_type": "code",
      "source": [
        "d.values()           #these values are mutable i.e. we can change it"
      ],
      "metadata": {
        "colab": {
          "base_uri": "https://localhost:8080/"
        },
        "id": "AEn3ODW6k9bz",
        "outputId": "fdc7ace1-4681-48d8-e08f-c579be89da6b"
      },
      "execution_count": 112,
      "outputs": [
        {
          "output_type": "execute_result",
          "data": {
            "text/plain": [
              "dict_values(['Kirti Gupta', 'Data Analytics', 'Maharashtra', 'kirtigupta191999@gmail.com', 'UP', 'India'])"
            ]
          },
          "metadata": {},
          "execution_count": 112
        }
      ]
    },
    {
      "cell_type": "code",
      "source": [
        "d['State']='Delhi'\n",
        "d"
      ],
      "metadata": {
        "colab": {
          "base_uri": "https://localhost:8080/"
        },
        "id": "h4w43xfzlF6T",
        "outputId": "882f44ff-04d4-4c5d-fe02-09f26f889b5e"
      },
      "execution_count": 113,
      "outputs": [
        {
          "output_type": "execute_result",
          "data": {
            "text/plain": [
              "{'name': 'Kirti Gupta',\n",
              " 'Course': 'Data Analytics',\n",
              " 'address': 'Maharashtra',\n",
              " 'email': 'kirtigupta191999@gmail.com',\n",
              " 'State': 'Delhi',\n",
              " 'Country': 'India'}"
            ]
          },
          "metadata": {},
          "execution_count": 113
        }
      ]
    },
    {
      "cell_type": "markdown",
      "source": [
        "#Assignment Completed\n"
      ],
      "metadata": {
        "id": "7Sej4zgflXmh"
      }
    }
  ]
}
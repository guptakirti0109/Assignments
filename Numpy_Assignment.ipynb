{
  "nbformat": 4,
  "nbformat_minor": 0,
  "metadata": {
    "colab": {
      "provenance": []
    },
    "kernelspec": {
      "name": "python3",
      "display_name": "Python 3"
    },
    "language_info": {
      "name": "python"
    }
  },
  "cells": [
    {
      "cell_type": "markdown",
      "source": [
        "# **Numpy Assignment**"
      ],
      "metadata": {
        "id": "SdWc2kOIRxyA"
      }
    },
    {
      "cell_type": "code",
      "execution_count": 2,
      "metadata": {
        "id": "k4c8YSK9RL6t"
      },
      "outputs": [],
      "source": [
        "import numpy as np"
      ]
    },
    {
      "cell_type": "markdown",
      "source": [
        "Q1. Create a 3x3 NumPy array with random integers between 1 and 100. Then, interchange its rows and columns."
      ],
      "metadata": {
        "id": "Kqf_iVqqRl3G"
      }
    },
    {
      "cell_type": "code",
      "source": [
        "#creating a 3x3 NumPy array with random integers between 1 and 100\n",
        "\n",
        "arr = np.random.randint(1,100,(3,3))\n",
        "arr"
      ],
      "metadata": {
        "colab": {
          "base_uri": "https://localhost:8080/"
        },
        "id": "jR2jTsm5SE3t",
        "outputId": "b1a86adf-216a-40df-defa-357aa5e4cf8a"
      },
      "execution_count": null,
      "outputs": [
        {
          "output_type": "execute_result",
          "data": {
            "text/plain": [
              "array([[69, 89, 99],\n",
              "       [71, 81, 16],\n",
              "       [ 2, 63, 40]])"
            ]
          },
          "metadata": {},
          "execution_count": 2
        }
      ]
    },
    {
      "cell_type": "code",
      "source": [
        "#using transpose to interchange its rows and columns\n",
        "\n",
        "arr.T"
      ],
      "metadata": {
        "colab": {
          "base_uri": "https://localhost:8080/"
        },
        "id": "9qYw_6DlSLkv",
        "outputId": "80340055-6801-4be7-d989-0330a830e010"
      },
      "execution_count": null,
      "outputs": [
        {
          "output_type": "execute_result",
          "data": {
            "text/plain": [
              "array([[69, 71,  2],\n",
              "       [89, 81, 63],\n",
              "       [99, 16, 40]])"
            ]
          },
          "metadata": {},
          "execution_count": 3
        }
      ]
    },
    {
      "cell_type": "markdown",
      "source": [
        "Q2. Generate a 1D NumPy array with 10 elements. Reshape it into a 2x5 array, then into a 5x2 array."
      ],
      "metadata": {
        "id": "sUq8aZ7oSqPW"
      }
    },
    {
      "cell_type": "code",
      "source": [
        "#generating a 1D array with 10 elements\n",
        "arr1 = np.array([1,2,3,4,5,6,7,8,9,10])\n",
        "arr1"
      ],
      "metadata": {
        "colab": {
          "base_uri": "https://localhost:8080/"
        },
        "id": "CNPwOVDRSiyB",
        "outputId": "d031ea4f-7aeb-4ce3-8491-729756d91568"
      },
      "execution_count": null,
      "outputs": [
        {
          "output_type": "execute_result",
          "data": {
            "text/plain": [
              "array([ 1,  2,  3,  4,  5,  6,  7,  8,  9, 10])"
            ]
          },
          "metadata": {},
          "execution_count": 6
        }
      ]
    },
    {
      "cell_type": "code",
      "source": [
        "arr1.ndim    #provides dimension"
      ],
      "metadata": {
        "colab": {
          "base_uri": "https://localhost:8080/"
        },
        "id": "en4E1VEzTDdA",
        "outputId": "9376b0c3-f7b5-46d5-dd61-f64199c63dca"
      },
      "execution_count": null,
      "outputs": [
        {
          "output_type": "execute_result",
          "data": {
            "text/plain": [
              "1"
            ]
          },
          "metadata": {},
          "execution_count": 7
        }
      ]
    },
    {
      "cell_type": "code",
      "source": [
        "arr1.shape   #provides shape"
      ],
      "metadata": {
        "colab": {
          "base_uri": "https://localhost:8080/"
        },
        "id": "vvVTQHHNTL7C",
        "outputId": "932f5bb0-90d2-42f6-d359-f9067e285169"
      },
      "execution_count": null,
      "outputs": [
        {
          "output_type": "execute_result",
          "data": {
            "text/plain": [
              "(10,)"
            ]
          },
          "metadata": {},
          "execution_count": 8
        }
      ]
    },
    {
      "cell_type": "code",
      "source": [
        "arr1.size    #provides the no. of elements"
      ],
      "metadata": {
        "colab": {
          "base_uri": "https://localhost:8080/"
        },
        "id": "AkVXCz6QTOOL",
        "outputId": "cf432201-4ced-4445-84c7-617865ba926f"
      },
      "execution_count": null,
      "outputs": [
        {
          "output_type": "execute_result",
          "data": {
            "text/plain": [
              "10"
            ]
          },
          "metadata": {},
          "execution_count": 9
        }
      ]
    },
    {
      "cell_type": "code",
      "source": [
        "#reshaping the arr1 in 2*5 array\n",
        "arr2 = np.reshape(arr1,(2,5))\n",
        "arr2"
      ],
      "metadata": {
        "colab": {
          "base_uri": "https://localhost:8080/"
        },
        "id": "WUReaqfITSwO",
        "outputId": "63bab68c-8ecd-48ff-dab2-1d212b94bfa9"
      },
      "execution_count": null,
      "outputs": [
        {
          "output_type": "execute_result",
          "data": {
            "text/plain": [
              "array([[ 1,  2,  3,  4,  5],\n",
              "       [ 6,  7,  8,  9, 10]])"
            ]
          },
          "metadata": {},
          "execution_count": 11
        }
      ]
    },
    {
      "cell_type": "code",
      "source": [
        "arr2.size    #there is no change in the no.of elements"
      ],
      "metadata": {
        "colab": {
          "base_uri": "https://localhost:8080/"
        },
        "id": "nA6L8V5UTtLr",
        "outputId": "b41f60ff-2b3d-4444-f76d-bae4c2228c82"
      },
      "execution_count": null,
      "outputs": [
        {
          "output_type": "execute_result",
          "data": {
            "text/plain": [
              "10"
            ]
          },
          "metadata": {},
          "execution_count": 13
        }
      ]
    },
    {
      "cell_type": "code",
      "source": [
        "#again reshaping arr2 in 5*2 array\n",
        "arr3 = np.reshape(arr2,(5,2))\n",
        "arr3"
      ],
      "metadata": {
        "colab": {
          "base_uri": "https://localhost:8080/"
        },
        "id": "lYmtL8mNTbQv",
        "outputId": "103568fa-8aa8-4255-f834-32dac150a8d1"
      },
      "execution_count": null,
      "outputs": [
        {
          "output_type": "execute_result",
          "data": {
            "text/plain": [
              "array([[ 1,  2],\n",
              "       [ 3,  4],\n",
              "       [ 5,  6],\n",
              "       [ 7,  8],\n",
              "       [ 9, 10]])"
            ]
          },
          "metadata": {},
          "execution_count": 14
        }
      ]
    },
    {
      "cell_type": "code",
      "source": [
        "arr3.size      #there is no change in the no.of elements"
      ],
      "metadata": {
        "colab": {
          "base_uri": "https://localhost:8080/"
        },
        "id": "24Jp6QlNTo_G",
        "outputId": "f8c6a37f-3e19-4561-8b76-6f0b90111266"
      },
      "execution_count": null,
      "outputs": [
        {
          "output_type": "execute_result",
          "data": {
            "text/plain": [
              "10"
            ]
          },
          "metadata": {},
          "execution_count": 15
        }
      ]
    },
    {
      "cell_type": "markdown",
      "source": [
        "Q3. Create a 4x4 NumPy array with random float values. Add a border of zeros around it, resulting in a 6x6 array."
      ],
      "metadata": {
        "id": "wCpgzw4_UqnG"
      }
    },
    {
      "cell_type": "code",
      "source": [
        "#Create a 4x4 array with random float values\n",
        "arr = np.random.rand(4,4)\n",
        "arr"
      ],
      "metadata": {
        "colab": {
          "base_uri": "https://localhost:8080/"
        },
        "id": "-h4Ay8e8MWqC",
        "outputId": "259d3d2a-8c8f-41e7-db00-c34370906fd4"
      },
      "execution_count": null,
      "outputs": [
        {
          "output_type": "execute_result",
          "data": {
            "text/plain": [
              "array([[0.53565587, 0.53128243, 0.4342998 , 0.12965028],\n",
              "       [0.95467916, 0.89986355, 0.6942032 , 0.35541494],\n",
              "       [0.44146134, 0.80432394, 0.97415502, 0.92319287],\n",
              "       [0.52596061, 0.19713713, 0.60749823, 0.32077983]])"
            ]
          },
          "metadata": {},
          "execution_count": 3
        }
      ]
    },
    {
      "cell_type": "code",
      "source": [
        "#add a border of zeros around the array\n",
        "\n",
        "bordered_arr = np.pad(arr,pad_width = 1,mode= 'constant',constant_values=0)\n",
        "bordered_arr"
      ],
      "metadata": {
        "colab": {
          "base_uri": "https://localhost:8080/"
        },
        "id": "hnUD5WjkPBJS",
        "outputId": "422c1f75-13c2-4e81-9758-14366217a9d4"
      },
      "execution_count": null,
      "outputs": [
        {
          "output_type": "execute_result",
          "data": {
            "text/plain": [
              "array([[0.        , 0.        , 0.        , 0.        , 0.        ,\n",
              "        0.        ],\n",
              "       [0.        , 0.53565587, 0.53128243, 0.4342998 , 0.12965028,\n",
              "        0.        ],\n",
              "       [0.        , 0.95467916, 0.89986355, 0.6942032 , 0.35541494,\n",
              "        0.        ],\n",
              "       [0.        , 0.44146134, 0.80432394, 0.97415502, 0.92319287,\n",
              "        0.        ],\n",
              "       [0.        , 0.52596061, 0.19713713, 0.60749823, 0.32077983,\n",
              "        0.        ],\n",
              "       [0.        , 0.        , 0.        , 0.        , 0.        ,\n",
              "        0.        ]])"
            ]
          },
          "metadata": {},
          "execution_count": 6
        }
      ]
    },
    {
      "cell_type": "markdown",
      "source": [
        "Q4. Using NumPy, create an array of integers from 10 to 60 with a step of 5."
      ],
      "metadata": {
        "id": "WV145bhWUznK"
      }
    },
    {
      "cell_type": "code",
      "source": [
        "import numpy as np\n",
        "arr = np.arange(10,61,5)\n",
        "arr"
      ],
      "metadata": {
        "colab": {
          "base_uri": "https://localhost:8080/"
        },
        "id": "eRAI_T8zU3XD",
        "outputId": "14c3c1e0-6ca6-4ac6-b2a8-c8f9f5e33817"
      },
      "execution_count": null,
      "outputs": [
        {
          "output_type": "execute_result",
          "data": {
            "text/plain": [
              "array([10, 15, 20, 25, 30, 35, 40, 45, 50, 55, 60])"
            ]
          },
          "metadata": {},
          "execution_count": 2
        }
      ]
    },
    {
      "cell_type": "markdown",
      "source": [
        "Q5. Create a NumPy array of strings ['python', 'numpy', 'pandas']. Apply different case transformations\n",
        "(uppercase, lowercase, title case, etc.) to each element."
      ],
      "metadata": {
        "id": "OHrdATVcDoRc"
      }
    },
    {
      "cell_type": "code",
      "source": [
        "#areating an array\n",
        "string = np.array( ['python', 'numpy', 'pandas'])\n",
        "string"
      ],
      "metadata": {
        "id": "Gc_QAG_uVR3_",
        "colab": {
          "base_uri": "https://localhost:8080/"
        },
        "outputId": "2d30df0d-b3c0-4299-a451-1e46e79997e7"
      },
      "execution_count": null,
      "outputs": [
        {
          "output_type": "execute_result",
          "data": {
            "text/plain": [
              "array(['python', 'numpy', 'pandas'], dtype='<U6')"
            ]
          },
          "metadata": {},
          "execution_count": 3
        }
      ]
    },
    {
      "cell_type": "code",
      "source": [
        "#transforming array of strings into uppercase\n",
        "np.char.upper(string)"
      ],
      "metadata": {
        "colab": {
          "base_uri": "https://localhost:8080/"
        },
        "id": "uDAzT0ASEGZ2",
        "outputId": "e61823a7-ee34-4217-8c74-b2ec198f9dae"
      },
      "execution_count": null,
      "outputs": [
        {
          "output_type": "execute_result",
          "data": {
            "text/plain": [
              "array(['PYTHON', 'NUMPY', 'PANDAS'], dtype='<U6')"
            ]
          },
          "metadata": {},
          "execution_count": 8
        }
      ]
    },
    {
      "cell_type": "code",
      "source": [
        "#capitalizing each letter of the array string\n",
        "np.char.capitalize(string)"
      ],
      "metadata": {
        "colab": {
          "base_uri": "https://localhost:8080/"
        },
        "id": "zP7CBqFsFCgo",
        "outputId": "950a0f4f-0da8-4379-83a0-d26335c06ba6"
      },
      "execution_count": null,
      "outputs": [
        {
          "output_type": "execute_result",
          "data": {
            "text/plain": [
              "array(['Python', 'Numpy', 'Pandas'], dtype='<U6')"
            ]
          },
          "metadata": {},
          "execution_count": 9
        }
      ]
    },
    {
      "cell_type": "code",
      "source": [
        "#swaping the case of each letter of the array string\n",
        "np.char.swapcase(string)"
      ],
      "metadata": {
        "colab": {
          "base_uri": "https://localhost:8080/"
        },
        "id": "zpPRbqz3FKRs",
        "outputId": "3fef27be-4acf-4248-e418-44354b030442"
      },
      "execution_count": null,
      "outputs": [
        {
          "output_type": "execute_result",
          "data": {
            "text/plain": [
              "array(['PYTHON', 'NUMPY', 'PANDAS'], dtype='<U6')"
            ]
          },
          "metadata": {},
          "execution_count": 10
        }
      ]
    },
    {
      "cell_type": "code",
      "source": [
        "#splitting each word of the array string\n",
        "np.char.split(string)"
      ],
      "metadata": {
        "colab": {
          "base_uri": "https://localhost:8080/"
        },
        "id": "ta9rvH8TFgnI",
        "outputId": "561c10cc-32dc-4a0e-de50-5f9acdd7fbf9"
      },
      "execution_count": null,
      "outputs": [
        {
          "output_type": "execute_result",
          "data": {
            "text/plain": [
              "array([list(['python']), list(['numpy']), list(['pandas'])], dtype=object)"
            ]
          },
          "metadata": {},
          "execution_count": 11
        }
      ]
    },
    {
      "cell_type": "markdown",
      "source": [
        "Q6. Generate a NumPy array of words. Insert a space between each character of every word in the array."
      ],
      "metadata": {
        "id": "3nQXVfu1GP5W"
      }
    },
    {
      "cell_type": "code",
      "source": [
        "#create a numpy array of words\n",
        "word_arr = np.array(['Kirti','Gupta'])\n",
        "word_arr"
      ],
      "metadata": {
        "colab": {
          "base_uri": "https://localhost:8080/"
        },
        "id": "dyMTRde9TAhb",
        "outputId": "13bf9038-3e4b-4c42-a7f8-af17a835164a"
      },
      "execution_count": null,
      "outputs": [
        {
          "output_type": "execute_result",
          "data": {
            "text/plain": [
              "array(['Kirti', 'Gupta'], dtype='<U5')"
            ]
          },
          "metadata": {},
          "execution_count": 19
        }
      ]
    },
    {
      "cell_type": "code",
      "source": [
        "#inserting space between each character of every word in the given array\n",
        "space_word_arr = np.array([[' '.join(word) for word in row] for row in word_arr])\n",
        "space_word_arr"
      ],
      "metadata": {
        "colab": {
          "base_uri": "https://localhost:8080/"
        },
        "id": "MCBSyifnTTkM",
        "outputId": "c8271d69-711f-4a10-c933-3ef8ca527fbe"
      },
      "execution_count": null,
      "outputs": [
        {
          "output_type": "execute_result",
          "data": {
            "text/plain": [
              "array([['K', 'i', 'r', 't', 'i'],\n",
              "       ['G', 'u', 'p', 't', 'a']], dtype='<U1')"
            ]
          },
          "metadata": {},
          "execution_count": 20
        }
      ]
    },
    {
      "cell_type": "markdown",
      "source": [
        "Q7. Create two 2D NumPy arrays and perform element-wise addition, subtraction, multiplication, and division."
      ],
      "metadata": {
        "id": "iLtJ1Py5Gd3r"
      }
    },
    {
      "cell_type": "code",
      "source": [
        "arr1 = np.random.randint(1,5,(4,4))\n",
        "arr1"
      ],
      "metadata": {
        "colab": {
          "base_uri": "https://localhost:8080/"
        },
        "id": "BH0irScXGXYI",
        "outputId": "b044250d-ac94-4703-f88e-5f86e96df39f"
      },
      "execution_count": null,
      "outputs": [
        {
          "output_type": "execute_result",
          "data": {
            "text/plain": [
              "array([[2, 1, 3, 2],\n",
              "       [2, 2, 3, 2],\n",
              "       [1, 2, 2, 1],\n",
              "       [1, 4, 3, 2]])"
            ]
          },
          "metadata": {},
          "execution_count": 12
        }
      ]
    },
    {
      "cell_type": "code",
      "source": [
        "arr2 = np.random.randint(6,9,(4,4))\n",
        "arr2"
      ],
      "metadata": {
        "colab": {
          "base_uri": "https://localhost:8080/"
        },
        "id": "lWqhxPmUGzPd",
        "outputId": "6bfd7aa0-e6e1-4c9c-8e14-2b6ea3a562bf"
      },
      "execution_count": null,
      "outputs": [
        {
          "output_type": "execute_result",
          "data": {
            "text/plain": [
              "array([[7, 8, 7, 6],\n",
              "       [6, 6, 8, 6],\n",
              "       [8, 8, 8, 8],\n",
              "       [6, 8, 7, 7]])"
            ]
          },
          "metadata": {},
          "execution_count": 14
        }
      ]
    },
    {
      "cell_type": "code",
      "source": [
        "#element-wise addition\n",
        "arr1 + arr2"
      ],
      "metadata": {
        "colab": {
          "base_uri": "https://localhost:8080/"
        },
        "id": "3GF0SC6YG-rH",
        "outputId": "d5839275-b99c-4e2a-b153-9c855e1743a3"
      },
      "execution_count": null,
      "outputs": [
        {
          "output_type": "execute_result",
          "data": {
            "text/plain": [
              "array([[ 9,  9, 10,  8],\n",
              "       [ 8,  8, 11,  8],\n",
              "       [ 9, 10, 10,  9],\n",
              "       [ 7, 12, 10,  9]])"
            ]
          },
          "metadata": {},
          "execution_count": 15
        }
      ]
    },
    {
      "cell_type": "code",
      "source": [
        "#element-wise subtraction\n",
        "arr1 - arr2"
      ],
      "metadata": {
        "colab": {
          "base_uri": "https://localhost:8080/"
        },
        "id": "UkYW7DcTHGO7",
        "outputId": "066bcc29-4df6-4b91-a54e-6c998f8d5efb"
      },
      "execution_count": null,
      "outputs": [
        {
          "output_type": "execute_result",
          "data": {
            "text/plain": [
              "array([[-5, -7, -4, -4],\n",
              "       [-4, -4, -5, -4],\n",
              "       [-7, -6, -6, -7],\n",
              "       [-5, -4, -4, -5]])"
            ]
          },
          "metadata": {},
          "execution_count": 16
        }
      ]
    },
    {
      "cell_type": "code",
      "source": [
        "#element-wise multiplication\n",
        "arr1 * arr2"
      ],
      "metadata": {
        "colab": {
          "base_uri": "https://localhost:8080/"
        },
        "id": "y-IPaTUWHOd8",
        "outputId": "c5ca276e-b349-4955-f402-6b0d1f162676"
      },
      "execution_count": null,
      "outputs": [
        {
          "output_type": "execute_result",
          "data": {
            "text/plain": [
              "array([[14,  8, 21, 12],\n",
              "       [12, 12, 24, 12],\n",
              "       [ 8, 16, 16,  8],\n",
              "       [ 6, 32, 21, 14]])"
            ]
          },
          "metadata": {},
          "execution_count": 17
        }
      ]
    },
    {
      "cell_type": "code",
      "source": [
        "#element-wise division\n",
        "arr1/arr2"
      ],
      "metadata": {
        "colab": {
          "base_uri": "https://localhost:8080/"
        },
        "id": "6_64hIRGHWXF",
        "outputId": "8f1b5504-4824-4983-a54d-8cac0be2d38d"
      },
      "execution_count": null,
      "outputs": [
        {
          "output_type": "execute_result",
          "data": {
            "text/plain": [
              "array([[0.28571429, 0.125     , 0.42857143, 0.33333333],\n",
              "       [0.33333333, 0.33333333, 0.375     , 0.33333333],\n",
              "       [0.125     , 0.25      , 0.25      , 0.125     ],\n",
              "       [0.16666667, 0.5       , 0.42857143, 0.28571429]])"
            ]
          },
          "metadata": {},
          "execution_count": 18
        }
      ]
    },
    {
      "cell_type": "markdown",
      "source": [
        "Q8.Use NumPy to create a 5x5 identity matrix, then extract its diagonal elements."
      ],
      "metadata": {
        "id": "0wtFNu-FHduj"
      }
    },
    {
      "cell_type": "code",
      "source": [
        "#creating a 5x5 identity matrix\n",
        "\n",
        "matrix = np.eye(5,dtype=int)\n",
        "matrix"
      ],
      "metadata": {
        "colab": {
          "base_uri": "https://localhost:8080/"
        },
        "id": "EAZ4D2N1Hj5S",
        "outputId": "f57964a1-6b09-46ef-b519-4d34966ab009"
      },
      "execution_count": null,
      "outputs": [
        {
          "output_type": "execute_result",
          "data": {
            "text/plain": [
              "array([[1, 0, 0, 0, 0],\n",
              "       [0, 1, 0, 0, 0],\n",
              "       [0, 0, 1, 0, 0],\n",
              "       [0, 0, 0, 1, 0],\n",
              "       [0, 0, 0, 0, 1]])"
            ]
          },
          "metadata": {},
          "execution_count": 21
        }
      ]
    },
    {
      "cell_type": "code",
      "source": [
        "#extracting diagonal elements\n",
        "matrix[0][0]"
      ],
      "metadata": {
        "colab": {
          "base_uri": "https://localhost:8080/"
        },
        "id": "5MgtEtc-ITPq",
        "outputId": "a6291aaa-1b33-4c34-8851-d09f7fdd1759"
      },
      "execution_count": null,
      "outputs": [
        {
          "output_type": "execute_result",
          "data": {
            "text/plain": [
              "1"
            ]
          },
          "metadata": {},
          "execution_count": 23
        }
      ]
    },
    {
      "cell_type": "code",
      "source": [
        "matrix[1][1]"
      ],
      "metadata": {
        "colab": {
          "base_uri": "https://localhost:8080/"
        },
        "id": "_lfo429yJKv0",
        "outputId": "62ee1327-b300-499c-a926-51c0b313d3ea"
      },
      "execution_count": null,
      "outputs": [
        {
          "output_type": "execute_result",
          "data": {
            "text/plain": [
              "1"
            ]
          },
          "metadata": {},
          "execution_count": 25
        }
      ]
    },
    {
      "cell_type": "code",
      "source": [
        "matrix[2][2]"
      ],
      "metadata": {
        "colab": {
          "base_uri": "https://localhost:8080/"
        },
        "id": "wl8thJu1JQAA",
        "outputId": "bfbd1c4e-3632-4dc0-c04f-9c7581e7d13d"
      },
      "execution_count": null,
      "outputs": [
        {
          "output_type": "execute_result",
          "data": {
            "text/plain": [
              "1"
            ]
          },
          "metadata": {},
          "execution_count": 27
        }
      ]
    },
    {
      "cell_type": "code",
      "source": [
        "matrix[3][3]"
      ],
      "metadata": {
        "colab": {
          "base_uri": "https://localhost:8080/"
        },
        "id": "sUA-ar3_JUJt",
        "outputId": "b4d24df8-58e7-4999-f9c8-3f05caaf0ce9"
      },
      "execution_count": null,
      "outputs": [
        {
          "output_type": "execute_result",
          "data": {
            "text/plain": [
              "1"
            ]
          },
          "metadata": {},
          "execution_count": 29
        }
      ]
    },
    {
      "cell_type": "code",
      "source": [
        "matrix[4][4]"
      ],
      "metadata": {
        "colab": {
          "base_uri": "https://localhost:8080/"
        },
        "id": "OguEUQVCJXo4",
        "outputId": "c27c004c-84dd-40a2-d597-714d77e46ab3"
      },
      "execution_count": null,
      "outputs": [
        {
          "output_type": "execute_result",
          "data": {
            "text/plain": [
              "1"
            ]
          },
          "metadata": {},
          "execution_count": 31
        }
      ]
    },
    {
      "cell_type": "markdown",
      "source": [
        "Q9. Generate a NumPy array of 100 random integers between 0 and 1000. Find and display all prime numbers in\n",
        "this array."
      ],
      "metadata": {
        "id": "muy21OX3JkNH"
      }
    },
    {
      "cell_type": "code",
      "source": [
        "#checking prime no.\n",
        "def is_prime(n):\n",
        "  if n<=1:\n",
        "    return False\n",
        "  for i in range(2,int(n**0.5)+1):\n",
        "    if n%i==0:\n",
        "      return False\n",
        "  return True\n",
        "\n",
        "#generating a numpy array of 100 integers between 0 and 1000\n",
        "num_arr = np.random.randint(0,1001,size=100)\n",
        "num_arr"
      ],
      "metadata": {
        "colab": {
          "base_uri": "https://localhost:8080/"
        },
        "id": "9Ii1_deQCch8",
        "outputId": "ed3d9972-b7a6-4878-cf26-97e8995045e6"
      },
      "execution_count": 4,
      "outputs": [
        {
          "output_type": "execute_result",
          "data": {
            "text/plain": [
              "array([921, 680, 597, 810, 930, 415, 988, 743, 425, 109, 127, 696, 852,\n",
              "        49, 367, 130, 357, 575, 386, 284,  26, 303, 433, 733, 762, 191,\n",
              "        35, 543, 571, 615, 994, 731, 611, 139, 722, 780, 512, 175, 113,\n",
              "       987, 515, 133, 525, 411, 308, 474, 302, 354, 965, 931, 491, 286,\n",
              "       926, 661, 279, 914, 622, 498, 882, 180, 872, 128, 868, 235, 856,\n",
              "       783,  20,   3, 664, 857, 221, 524, 930, 507, 536,  43, 829, 936,\n",
              "       334, 320, 766, 487, 130, 565,   6, 128, 692,  41,  44, 540,  78,\n",
              "         8,   2, 191, 829, 645, 239, 126, 922, 790])"
            ]
          },
          "metadata": {},
          "execution_count": 4
        }
      ]
    },
    {
      "cell_type": "code",
      "source": [
        "#finding all the prime no's in the given array using list comprehension\n",
        "\n",
        "prime_no = [num for num in num_arr if is_prime(num)]\n",
        "print('Prime numbers:' , prime_no)"
      ],
      "metadata": {
        "colab": {
          "base_uri": "https://localhost:8080/"
        },
        "id": "h3RPe_RZDsS9",
        "outputId": "98212ae7-94e1-4b7f-eccc-eed6f32efdc0"
      },
      "execution_count": 6,
      "outputs": [
        {
          "output_type": "stream",
          "name": "stdout",
          "text": [
            "Prime numbers: [743, 109, 127, 367, 433, 733, 191, 571, 139, 113, 491, 661, 3, 857, 43, 829, 487, 41, 2, 191, 829, 239]\n"
          ]
        }
      ]
    },
    {
      "cell_type": "markdown",
      "source": [
        "Q10. Create a NumPy array representing daily temperatures for a month. Calculate and display the weekly\n",
        "averages."
      ],
      "metadata": {
        "id": "qslk6gtAJuVE"
      }
    },
    {
      "cell_type": "code",
      "source": [
        "#creating a numpy array representing daily temperatures for a month\n",
        "np.random.seed(0)    #seed is used for reproducibility\n",
        "daily_temp = np.random.randint(10,36,size=30)\n",
        "daily_temp"
      ],
      "metadata": {
        "colab": {
          "base_uri": "https://localhost:8080/"
        },
        "id": "PPyt23lWGETe",
        "outputId": "8ec64258-0e4e-45a7-e075-33f42df02987"
      },
      "execution_count": 16,
      "outputs": [
        {
          "output_type": "execute_result",
          "data": {
            "text/plain": [
              "array([22, 25, 31, 10, 13, 13, 17, 19, 29, 31, 28, 14, 33, 16, 34, 34, 22,\n",
              "       11, 16, 17, 33, 24, 34, 27, 15, 35, 23, 18, 19, 30])"
            ]
          },
          "metadata": {},
          "execution_count": 16
        }
      ]
    },
    {
      "cell_type": "code",
      "source": [
        "#reshaping the array to have 4 weeks\n",
        "weeks = daily_temp[:28]\n",
        "weeks"
      ],
      "metadata": {
        "colab": {
          "base_uri": "https://localhost:8080/"
        },
        "id": "R8XNZtpvJs4B",
        "outputId": "3adce403-35d8-4dfe-d0ae-f789a79ab9f8"
      },
      "execution_count": 17,
      "outputs": [
        {
          "output_type": "execute_result",
          "data": {
            "text/plain": [
              "array([22, 25, 31, 10, 13, 13, 17, 19, 29, 31, 28, 14, 33, 16, 34, 34, 22,\n",
              "       11, 16, 17, 33, 24, 34, 27, 15, 35, 23, 18])"
            ]
          },
          "metadata": {},
          "execution_count": 17
        }
      ]
    },
    {
      "cell_type": "code",
      "source": [
        "weeks.size"
      ],
      "metadata": {
        "colab": {
          "base_uri": "https://localhost:8080/"
        },
        "id": "fdbV-b4oJ-dA",
        "outputId": "d72fab19-0840-44f1-da43-237b0c6e6c1c"
      },
      "execution_count": 10,
      "outputs": [
        {
          "output_type": "execute_result",
          "data": {
            "text/plain": [
              "28"
            ]
          },
          "metadata": {},
          "execution_count": 10
        }
      ]
    },
    {
      "cell_type": "code",
      "source": [
        "w1 = weeks.reshape(4,7)\n",
        "w1"
      ],
      "metadata": {
        "colab": {
          "base_uri": "https://localhost:8080/"
        },
        "id": "FO9Bph5CKEvU",
        "outputId": "b7fa773a-363c-4822-bdaa-8cca796b94d8"
      },
      "execution_count": 18,
      "outputs": [
        {
          "output_type": "execute_result",
          "data": {
            "text/plain": [
              "array([[22, 25, 31, 10, 13, 13, 17],\n",
              "       [19, 29, 31, 28, 14, 33, 16],\n",
              "       [34, 34, 22, 11, 16, 17, 33],\n",
              "       [24, 34, 27, 15, 35, 23, 18]])"
            ]
          },
          "metadata": {},
          "execution_count": 18
        }
      ]
    },
    {
      "cell_type": "code",
      "source": [
        "remaining_days = daily_temp[28:]\n",
        "remaining_days"
      ],
      "metadata": {
        "colab": {
          "base_uri": "https://localhost:8080/"
        },
        "id": "So2_FYRcKmAt",
        "outputId": "a377d850-9545-4914-9976-fd2d28cf6ff9"
      },
      "execution_count": 19,
      "outputs": [
        {
          "output_type": "execute_result",
          "data": {
            "text/plain": [
              "array([19, 30])"
            ]
          },
          "metadata": {},
          "execution_count": 19
        }
      ]
    },
    {
      "cell_type": "code",
      "source": [
        "#calculating average\n",
        "weekly_avg = np.average(w1, axis=1)\n",
        "remaining_days_avg = np.average(remaining_days)\n",
        "total_weekly_avg = np.append(weekly_avg,remaining_days_avg)\n",
        "total_weekly_avg"
      ],
      "metadata": {
        "colab": {
          "base_uri": "https://localhost:8080/"
        },
        "id": "yiInk7cjKxtl",
        "outputId": "ff9bb5d3-1f72-4348-e957-4554102b964b"
      },
      "execution_count": 24,
      "outputs": [
        {
          "output_type": "execute_result",
          "data": {
            "text/plain": [
              "array([18.71428571, 24.28571429, 23.85714286, 25.14285714, 24.5       ])"
            ]
          },
          "metadata": {},
          "execution_count": 24
        }
      ]
    },
    {
      "cell_type": "markdown",
      "source": [
        "#**Assignment Completed**"
      ],
      "metadata": {
        "id": "F1b17JXWPUJQ"
      }
    }
  ]
}
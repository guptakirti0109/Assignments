{
 "cells": [
  {
   "cell_type": "markdown",
   "id": "9f673e93-5bd6-4b01-b564-69278d9ed8fd",
   "metadata": {},
   "source": [
    "Q1)Explain the key features of Python that makes it a popular choice for programming?\n",
    "\n",
    "Ans-The key features of Python that makes it a popular choice for programming are:\n",
    "a) Widely used in the Data Industry\n",
    "b) Having Versatility\n",
    "c) Huge active community\n",
    "d) Having a lot of libraries, currently more than 137000.Ex-Pandas,Numpy,etc\n",
    "e) It is easy to learn\n"
   ]
  },
  {
   "cell_type": "markdown",
   "id": "a3a34b69-ed17-434a-81b1-625aa12ad655",
   "metadata": {},
   "source": [
    "Q2)Describe the role of predefined keywords in Python and provide examples how they are used in a program?\n",
    "\n",
    "Ans-There are some predefined words that hold a special meaning and have some specific purpose are called Keywords.Some of these keywords are as follows:\n",
    "Print,import,if,del,else,and,none,continue,class,assert,async,elif,not,lambda,etc"
   ]
  },
  {
   "cell_type": "code",
   "execution_count": 2,
   "id": "745e81dd-31c2-49d7-b1f5-7809d7d03224",
   "metadata": {},
   "outputs": [
    {
     "name": "stdout",
     "output_type": "stream",
     "text": [
      "a is greater than b\n"
     ]
    }
   ],
   "source": [
    "#Some examples of keywords using in a program:\n",
    "\n",
    "a = 187                                    #use of keyword if and print\n",
    "b = 23\n",
    "if a>b:\n",
    "    print('a is greater than b')"
   ]
  },
  {
   "cell_type": "code",
   "execution_count": 3,
   "id": "3c8be7c8-586d-4c7a-a25b-9621d41ff0ee",
   "metadata": {},
   "outputs": [
    {
     "name": "stdout",
     "output_type": "stream",
     "text": [
      "b is greater than a\n"
     ]
    }
   ],
   "source": [
    "a = 18                                     #use of keyword if,else and print\n",
    "b = 23\n",
    "if a>b:\n",
    "    print('a is greater than b')\n",
    "else:\n",
    "    print('b is greater than a')"
   ]
  },
  {
   "cell_type": "code",
   "execution_count": 6,
   "id": "22ccfba0-0dcb-4479-8c15-9ae96741c26f",
   "metadata": {},
   "outputs": [
    {
     "name": "stdin",
     "output_type": "stream",
     "text": [
      "Please enter your name Kirti Gupta\n"
     ]
    }
   ],
   "source": [
    "name = input('Please enter your name')      #use of keyword input"
   ]
  },
  {
   "cell_type": "code",
   "execution_count": 7,
   "id": "d69e78b2-d962-42d0-8ea6-717be1234f09",
   "metadata": {},
   "outputs": [
    {
     "name": "stdin",
     "output_type": "stream",
     "text": [
      "Please enter your name Khushi Goel\n"
     ]
    },
    {
     "name": "stdout",
     "output_type": "stream",
     "text": [
      "Khushi Goel\n"
     ]
    }
   ],
   "source": [
    "name = input('Please enter your name')      #use of keyword input and print\n",
    "print(name)"
   ]
  },
  {
   "cell_type": "code",
   "execution_count": 8,
   "id": "cc051bad-1ee8-46e0-a426-64b48c4689cb",
   "metadata": {},
   "outputs": [
    {
     "data": {
      "text/plain": [
       "['Maths', 'Englih', 'Hindi', 'Science']"
      ]
     },
     "execution_count": 8,
     "metadata": {},
     "output_type": "execute_result"
    }
   ],
   "source": [
    "book_list = ['Maths','Englih','Hindi','Science']\n",
    "book_list"
   ]
  },
  {
   "cell_type": "code",
   "execution_count": 17,
   "id": "968aea5f-767b-4a05-b434-a56b954e44f4",
   "metadata": {},
   "outputs": [],
   "source": [
    "del book_list                              #use of keyword del"
   ]
  },
  {
   "cell_type": "code",
   "execution_count": 18,
   "id": "4294de37-f5db-4d72-ba1e-6a05628fae52",
   "metadata": {},
   "outputs": [
    {
     "ename": "NameError",
     "evalue": "name 'book_list' is not defined",
     "output_type": "error",
     "traceback": [
      "\u001b[0;31m---------------------------------------------------------------------------\u001b[0m",
      "\u001b[0;31mNameError\u001b[0m                                 Traceback (most recent call last)",
      "Cell \u001b[0;32mIn[18], line 1\u001b[0m\n\u001b[0;32m----> 1\u001b[0m \u001b[43mbook_list\u001b[49m\n",
      "\u001b[0;31mNameError\u001b[0m: name 'book_list' is not defined"
     ]
    }
   ],
   "source": [
    "book_list       #book_list is deleted that's why showing error"
   ]
  },
  {
   "cell_type": "markdown",
   "id": "f2d0d3cc-e5ba-417e-9ebc-014b007a8656",
   "metadata": {},
   "source": [
    "Q3) Compare and contrast mutable and immutable objects in Python with examples?\n",
    "\n",
    "Ans-Objects or containers whose state or value can be changed after they are created are called Mutable Objects or Containers.Some of the Mutable data structures are list,set and dictionaries.\n",
    "                                                         whereas\n",
    "Objects or containers whose state or value can not be changed after they are created are called Immutable Objects or Containers.Some of the Immutable data structures are strings,tuples and frozen sets.                                                                "
   ]
  },
  {
   "cell_type": "code",
   "execution_count": 19,
   "id": "d28ce9f7-2b5a-49a2-942b-c386717491ca",
   "metadata": {},
   "outputs": [
    {
     "data": {
      "text/plain": [
       "['Maths', 'Englih', 'Hindi', 'Science']"
      ]
     },
     "execution_count": 19,
     "metadata": {},
     "output_type": "execute_result"
    }
   ],
   "source": [
    "#Use of Mutable objects:\n",
    "\n",
    "book_list = ['Maths','Englih','Hindi','Science']\n",
    "book_list\n"
   ]
  },
  {
   "cell_type": "code",
   "execution_count": 20,
   "id": "b253408e-1334-456d-a402-aab2b3b814d1",
   "metadata": {},
   "outputs": [
    {
     "data": {
      "text/plain": [
       "['GK', 'Englih', 'Hindi', 'Science']"
      ]
     },
     "execution_count": 20,
     "metadata": {},
     "output_type": "execute_result"
    }
   ],
   "source": [
    "book_list[0] = 'GK'\n",
    "book_list"
   ]
  },
  {
   "cell_type": "code",
   "execution_count": 21,
   "id": "c832aa8a-6e0d-4a25-81cb-73d4ed07921a",
   "metadata": {},
   "outputs": [
    {
     "data": {
      "text/plain": [
       "['GK', 'Englih', 'Hindi', 'Science', 'Maths']"
      ]
     },
     "execution_count": 21,
     "metadata": {},
     "output_type": "execute_result"
    }
   ],
   "source": [
    "book_list.append('Maths')\n",
    "book_list"
   ]
  },
  {
   "cell_type": "code",
   "execution_count": 22,
   "id": "4830b8f8-ee3e-49d2-af81-5a689d1acf56",
   "metadata": {},
   "outputs": [
    {
     "data": {
      "text/plain": [
       "['GK', 'Englih', 'Science', 'Maths']"
      ]
     },
     "execution_count": 22,
     "metadata": {},
     "output_type": "execute_result"
    }
   ],
   "source": [
    "book_list.remove('Hindi')\n",
    "book_list"
   ]
  },
  {
   "cell_type": "code",
   "execution_count": 25,
   "id": "317321a1-53cd-4ec7-86c0-b4a6d8afe9b2",
   "metadata": {},
   "outputs": [
    {
     "data": {
      "text/plain": [
       "{(2+5j), 123, 672, 'Kavita', 'Neha', True}"
      ]
     },
     "execution_count": 25,
     "metadata": {},
     "output_type": "execute_result"
    }
   ],
   "source": [
    "set = {123, 123,672,True,672,True,2+5j,'Neha','Kavita'}\n",
    "set"
   ]
  },
  {
   "cell_type": "code",
   "execution_count": 26,
   "id": "0cd40528-02ee-4533-8b20-ccf18a7fdff7",
   "metadata": {},
   "outputs": [],
   "source": [
    "set.remove(123)"
   ]
  },
  {
   "cell_type": "code",
   "execution_count": 27,
   "id": "69b729c4-44a8-4947-829f-1c48f6774e0b",
   "metadata": {},
   "outputs": [
    {
     "data": {
      "text/plain": [
       "{(2+5j), 672, 'Kavita', 'Neha', True}"
      ]
     },
     "execution_count": 27,
     "metadata": {},
     "output_type": "execute_result"
    }
   ],
   "source": [
    "set"
   ]
  },
  {
   "cell_type": "code",
   "execution_count": 28,
   "id": "eb002fb5-0386-4546-9de1-c81a9d524ac9",
   "metadata": {},
   "outputs": [
    {
     "data": {
      "text/plain": [
       "{(2+5j), 672, 'Kavita', 'Kirti', 'Neha', True}"
      ]
     },
     "execution_count": 28,
     "metadata": {},
     "output_type": "execute_result"
    }
   ],
   "source": [
    "set.add('Kirti')\n",
    "set"
   ]
  },
  {
   "cell_type": "code",
   "execution_count": 30,
   "id": "5266143d-c4e0-430a-9b70-88913d323bcb",
   "metadata": {},
   "outputs": [
    {
     "data": {
      "text/plain": [
       "{'Burger': 250, 'Pizza': 199, 'Noodles': 100}"
      ]
     },
     "execution_count": 30,
     "metadata": {},
     "output_type": "execute_result"
    }
   ],
   "source": [
    "my_dict = {'Burger':250,'Pizza':199,'Noodles':100}\n",
    "my_dict"
   ]
  },
  {
   "cell_type": "code",
   "execution_count": 31,
   "id": "4b193944-65e3-44f6-a969-c927bc9681df",
   "metadata": {},
   "outputs": [
    {
     "data": {
      "text/plain": [
       "250"
      ]
     },
     "execution_count": 31,
     "metadata": {},
     "output_type": "execute_result"
    }
   ],
   "source": [
    "my_dict['Burger']"
   ]
  },
  {
   "cell_type": "code",
   "execution_count": 33,
   "id": "cc8d652c-2b30-449a-a144-8e8f3a2525d7",
   "metadata": {},
   "outputs": [
    {
     "data": {
      "text/plain": [
       "dict_keys(['Burger', 'Pizza', 'Noodles'])"
      ]
     },
     "execution_count": 33,
     "metadata": {},
     "output_type": "execute_result"
    }
   ],
   "source": [
    "my_dict.keys()"
   ]
  },
  {
   "cell_type": "code",
   "execution_count": 34,
   "id": "2ba9c945-08c1-4c85-bbf2-e328f830c0d2",
   "metadata": {},
   "outputs": [
    {
     "data": {
      "text/plain": [
       "dict_values([250, 199, 100])"
      ]
     },
     "execution_count": 34,
     "metadata": {},
     "output_type": "execute_result"
    }
   ],
   "source": [
    "my_dict.values()"
   ]
  },
  {
   "cell_type": "code",
   "execution_count": 35,
   "id": "83b53f27-2b8a-4156-8f70-0b3170984420",
   "metadata": {},
   "outputs": [
    {
     "data": {
      "text/plain": [
       "{'Burger': 150, 'Pizza': 199, 'Noodles': 100}"
      ]
     },
     "execution_count": 35,
     "metadata": {},
     "output_type": "execute_result"
    }
   ],
   "source": [
    "my_dict['Burger'] =150\n",
    "my_dict"
   ]
  },
  {
   "cell_type": "code",
   "execution_count": 36,
   "id": "b907489f-7d11-4cc6-b76f-ab363aede93d",
   "metadata": {},
   "outputs": [],
   "source": [
    "my_dict['Noodles']= 50"
   ]
  },
  {
   "cell_type": "code",
   "execution_count": 37,
   "id": "728f9fb4-83cb-40be-b888-d3038c08d743",
   "metadata": {},
   "outputs": [
    {
     "data": {
      "text/plain": [
       "{'Burger': 150, 'Pizza': 199, 'Noodles': 50}"
      ]
     },
     "execution_count": 37,
     "metadata": {},
     "output_type": "execute_result"
    }
   ],
   "source": [
    "my_dict"
   ]
  },
  {
   "cell_type": "code",
   "execution_count": 38,
   "id": "d03c0c01-f3b3-45c4-b47b-c230fbbff5dd",
   "metadata": {},
   "outputs": [
    {
     "data": {
      "text/plain": [
       "'Kirti'"
      ]
     },
     "execution_count": 38,
     "metadata": {},
     "output_type": "execute_result"
    }
   ],
   "source": [
    "#Use of Immutable objects\n",
    "\n",
    "b = 'Kirti'\n",
    "b"
   ]
  },
  {
   "cell_type": "code",
   "execution_count": 39,
   "id": "1cb52e1d-3f17-466d-b0ee-e9e5f22d6ee3",
   "metadata": {},
   "outputs": [
    {
     "data": {
      "text/plain": [
       "'K'"
      ]
     },
     "execution_count": 39,
     "metadata": {},
     "output_type": "execute_result"
    }
   ],
   "source": [
    "b[0]"
   ]
  },
  {
   "cell_type": "code",
   "execution_count": 40,
   "id": "aa931ab1-858c-4fe2-93b2-5e240304233b",
   "metadata": {},
   "outputs": [
    {
     "ename": "TypeError",
     "evalue": "'str' object does not support item assignment",
     "output_type": "error",
     "traceback": [
      "\u001b[0;31m---------------------------------------------------------------------------\u001b[0m",
      "\u001b[0;31mTypeError\u001b[0m                                 Traceback (most recent call last)",
      "Cell \u001b[0;32mIn[40], line 1\u001b[0m\n\u001b[0;32m----> 1\u001b[0m \u001b[43mb\u001b[49m\u001b[43m[\u001b[49m\u001b[38;5;241;43m0\u001b[39;49m\u001b[43m]\u001b[49m\u001b[38;5;241m=\u001b[39m\u001b[38;5;124m'\u001b[39m\u001b[38;5;124mP\u001b[39m\u001b[38;5;124m'\u001b[39m\n",
      "\u001b[0;31mTypeError\u001b[0m: 'str' object does not support item assignment"
     ]
    }
   ],
   "source": [
    "b[0]='P'                #string is immutable   "
   ]
  },
  {
   "cell_type": "code",
   "execution_count": 41,
   "id": "56d9038c-b7e6-4c03-a645-735afdf9a00b",
   "metadata": {},
   "outputs": [
    {
     "data": {
      "text/plain": [
       "(True, 'Dev', 1.4, 55, (8+9j), 'Yash')"
      ]
     },
     "execution_count": 41,
     "metadata": {},
     "output_type": "execute_result"
    }
   ],
   "source": [
    "tuple = (True,'Dev',1.4,55,8+9j,'Yash')\n",
    "tuple"
   ]
  },
  {
   "cell_type": "code",
   "execution_count": 42,
   "id": "6bf79f43-debb-459e-96b1-283d9fb33205",
   "metadata": {},
   "outputs": [
    {
     "data": {
      "text/plain": [
       "True"
      ]
     },
     "execution_count": 42,
     "metadata": {},
     "output_type": "execute_result"
    }
   ],
   "source": [
    "tuple[0]"
   ]
  },
  {
   "cell_type": "code",
   "execution_count": 44,
   "id": "cf804f33-0015-4114-9aae-8281cd9cbfbb",
   "metadata": {},
   "outputs": [
    {
     "ename": "TypeError",
     "evalue": "'tuple' object does not support item assignment",
     "output_type": "error",
     "traceback": [
      "\u001b[0;31m---------------------------------------------------------------------------\u001b[0m",
      "\u001b[0;31mTypeError\u001b[0m                                 Traceback (most recent call last)",
      "Cell \u001b[0;32mIn[44], line 1\u001b[0m\n\u001b[0;32m----> 1\u001b[0m \u001b[38;5;28;43mtuple\u001b[39;49m\u001b[43m[\u001b[49m\u001b[38;5;241;43m0\u001b[39;49m\u001b[43m]\u001b[49m\u001b[38;5;241m=\u001b[39m \u001b[38;5;124m'\u001b[39m\u001b[38;5;124mFalse\u001b[39m\u001b[38;5;124m'\u001b[39m\n\u001b[1;32m      2\u001b[0m \u001b[38;5;28mtuple\u001b[39m\n",
      "\u001b[0;31mTypeError\u001b[0m: 'tuple' object does not support item assignment"
     ]
    }
   ],
   "source": [
    "tuple[0]= 'False'                       #tuple is immutable\n",
    "tuple"
   ]
  },
  {
   "cell_type": "code",
   "execution_count": 45,
   "id": "91dd5a73-c6ce-4bef-9b21-0aee5ead264d",
   "metadata": {},
   "outputs": [
    {
     "data": {
      "text/plain": [
       "frozenset({1, 2, 3, 4, 5})"
      ]
     },
     "execution_count": 45,
     "metadata": {},
     "output_type": "execute_result"
    }
   ],
   "source": [
    "my_fs = frozenset([1,2,3,3,4,4,5])\n",
    "my_fs"
   ]
  },
  {
   "cell_type": "code",
   "execution_count": 48,
   "id": "5939a301-83fe-4b30-805a-2090d26e4874",
   "metadata": {},
   "outputs": [
    {
     "ename": "TypeError",
     "evalue": "'frozenset' object does not support item assignment",
     "output_type": "error",
     "traceback": [
      "\u001b[0;31m---------------------------------------------------------------------------\u001b[0m",
      "\u001b[0;31mTypeError\u001b[0m                                 Traceback (most recent call last)",
      "Cell \u001b[0;32mIn[48], line 1\u001b[0m\n\u001b[0;32m----> 1\u001b[0m \u001b[43mmy_fs\u001b[49m\u001b[43m[\u001b[49m\u001b[38;5;241;43m0\u001b[39;49m\u001b[43m]\u001b[49m \u001b[38;5;241m=\u001b[39m \u001b[38;5;241m7\u001b[39m                            \u001b[38;5;66;03m#frozenset is immutable\u001b[39;00m\n",
      "\u001b[0;31mTypeError\u001b[0m: 'frozenset' object does not support item assignment"
     ]
    }
   ],
   "source": [
    "my_fs[0] = 7                            #frozenset is immutable"
   ]
  },
  {
   "attachments": {
    "aeced5fe-6141-45f0-867d-d6be1e3debcf.png": {
     "image/png": "[encoded data removed]"
    }
   },
   "cell_type": "markdown",
   "id": "ccb42475-5f08-4f76-b837-85088a1c8663",
   "metadata": {},
   "source": [
    "Q4) Discuss the different types of operators in Python and provide examples how they are used?\n",
    "\n",
    "Ans-The different types of operators in Python are as follows:\n",
    " \n",
    " ![image.png](attachment:aeced5fe-6141-45f0-867d-d6be1e3debcf.png)\n",
    "  \n",
    "  \n",
    "   \n",
    "   \n",
    "\n",
    "\n",
    "\n",
    "\n",
    "\n",
    "\n",
    "\n"
   ]
  },
  {
   "cell_type": "code",
   "execution_count": 49,
   "id": "ce6a5ed8-73de-434e-89f1-69b7ec4aac7a",
   "metadata": {},
   "outputs": [
    {
     "data": {
      "text/plain": [
       "79"
      ]
     },
     "execution_count": 49,
     "metadata": {},
     "output_type": "execute_result"
    }
   ],
   "source": [
    "#use of Arithmatic operators\n",
    "\n",
    "a = 23\n",
    "b = 56\n",
    "a + b"
   ]
  },
  {
   "cell_type": "code",
   "execution_count": 50,
   "id": "ac731171-4ace-4961-a1e5-650d2a7b42b7",
   "metadata": {},
   "outputs": [
    {
     "data": {
      "text/plain": [
       "-33"
      ]
     },
     "execution_count": 50,
     "metadata": {},
     "output_type": "execute_result"
    }
   ],
   "source": [
    "a - b"
   ]
  },
  {
   "cell_type": "code",
   "execution_count": 51,
   "id": "cb1c44a1-f475-4d7f-afac-871874035fd8",
   "metadata": {},
   "outputs": [
    {
     "data": {
      "text/plain": [
       "1288"
      ]
     },
     "execution_count": 51,
     "metadata": {},
     "output_type": "execute_result"
    }
   ],
   "source": [
    "a * b"
   ]
  },
  {
   "cell_type": "code",
   "execution_count": 52,
   "id": "5f0075ae-96c4-478f-b07d-4c25737aadb1",
   "metadata": {},
   "outputs": [
    {
     "data": {
      "text/plain": [
       "0.4107142857142857"
      ]
     },
     "execution_count": 52,
     "metadata": {},
     "output_type": "execute_result"
    }
   ],
   "source": [
    "a / b"
   ]
  },
  {
   "cell_type": "code",
   "execution_count": 53,
   "id": "05491141-865f-4842-8911-f2bdd164926e",
   "metadata": {},
   "outputs": [
    {
     "data": {
      "text/plain": [
       "0"
      ]
     },
     "execution_count": 53,
     "metadata": {},
     "output_type": "execute_result"
    }
   ],
   "source": [
    "a = 24\n",
    "b = 12\n",
    "a % b"
   ]
  },
  {
   "cell_type": "code",
   "execution_count": 54,
   "id": "5a0dcbcc-6709-4713-952b-f63180c3a611",
   "metadata": {},
   "outputs": [
    {
     "data": {
      "text/plain": [
       "81"
      ]
     },
     "execution_count": 54,
     "metadata": {},
     "output_type": "execute_result"
    }
   ],
   "source": [
    "a = 3\n",
    "b = 4\n",
    "a ** b"
   ]
  },
  {
   "cell_type": "code",
   "execution_count": 55,
   "id": "06c7a519-f271-4361-b1f9-3ef6bf4ebab8",
   "metadata": {},
   "outputs": [
    {
     "data": {
      "text/plain": [
       "False"
      ]
     },
     "execution_count": 55,
     "metadata": {},
     "output_type": "execute_result"
    }
   ],
   "source": [
    "#use of Comparison operators\n",
    "\n",
    "a = 34\n",
    "b = -12\n",
    "a == b"
   ]
  },
  {
   "cell_type": "code",
   "execution_count": 56,
   "id": "1c8bc5c2-d64b-4bdb-bc70-6daf8fae4ba0",
   "metadata": {},
   "outputs": [
    {
     "data": {
      "text/plain": [
       "True"
      ]
     },
     "execution_count": 56,
     "metadata": {},
     "output_type": "execute_result"
    }
   ],
   "source": [
    "a >= b"
   ]
  },
  {
   "cell_type": "code",
   "execution_count": 57,
   "id": "7569c873-a1e9-481d-ab0a-fc63a3a55e31",
   "metadata": {},
   "outputs": [
    {
     "data": {
      "text/plain": [
       "True"
      ]
     },
     "execution_count": 57,
     "metadata": {},
     "output_type": "execute_result"
    }
   ],
   "source": [
    "a = 34\n",
    "b = 77\n",
    "a <= b"
   ]
  },
  {
   "cell_type": "code",
   "execution_count": 58,
   "id": "f89b8bcc-d863-47a1-aa22-b51ed1f4aba7",
   "metadata": {},
   "outputs": [
    {
     "data": {
      "text/plain": [
       "True"
      ]
     },
     "execution_count": 58,
     "metadata": {},
     "output_type": "execute_result"
    }
   ],
   "source": [
    "a != b"
   ]
  },
  {
   "cell_type": "code",
   "execution_count": 59,
   "id": "21f1e540-5861-48ce-a993-472854c76703",
   "metadata": {},
   "outputs": [
    {
     "data": {
      "text/plain": [
       "True"
      ]
     },
     "execution_count": 59,
     "metadata": {},
     "output_type": "execute_result"
    }
   ],
   "source": [
    "#use of Logical Operators\n",
    "\n",
    "True and True"
   ]
  },
  {
   "cell_type": "code",
   "execution_count": 60,
   "id": "d186be70-f8aa-40a3-8c20-49c06e65e968",
   "metadata": {},
   "outputs": [
    {
     "data": {
      "text/plain": [
       "False"
      ]
     },
     "execution_count": 60,
     "metadata": {},
     "output_type": "execute_result"
    }
   ],
   "source": [
    "False and False"
   ]
  },
  {
   "cell_type": "code",
   "execution_count": 61,
   "id": "05e59346-6993-4b6f-be43-bb48789e3d00",
   "metadata": {},
   "outputs": [
    {
     "data": {
      "text/plain": [
       "False"
      ]
     },
     "execution_count": 61,
     "metadata": {},
     "output_type": "execute_result"
    }
   ],
   "source": [
    "True and False"
   ]
  },
  {
   "cell_type": "code",
   "execution_count": 62,
   "id": "0e9dbbe5-a858-4471-800b-af3682629fb4",
   "metadata": {},
   "outputs": [
    {
     "data": {
      "text/plain": [
       "True"
      ]
     },
     "execution_count": 62,
     "metadata": {},
     "output_type": "execute_result"
    }
   ],
   "source": [
    "True or True"
   ]
  },
  {
   "cell_type": "code",
   "execution_count": 63,
   "id": "e59c3283-b15e-439b-a25d-4507189f95b6",
   "metadata": {},
   "outputs": [
    {
     "data": {
      "text/plain": [
       "False"
      ]
     },
     "execution_count": 63,
     "metadata": {},
     "output_type": "execute_result"
    }
   ],
   "source": [
    "False and False"
   ]
  },
  {
   "cell_type": "code",
   "execution_count": 64,
   "id": "671e0983-0d02-44b0-abe1-ad3c55e6dd41",
   "metadata": {},
   "outputs": [
    {
     "data": {
      "text/plain": [
       "True"
      ]
     },
     "execution_count": 64,
     "metadata": {},
     "output_type": "execute_result"
    }
   ],
   "source": [
    "True or False"
   ]
  },
  {
   "cell_type": "code",
   "execution_count": 65,
   "id": "56719a96-3bd3-4416-af65-a127ae70587a",
   "metadata": {},
   "outputs": [
    {
     "data": {
      "text/plain": [
       "False"
      ]
     },
     "execution_count": 65,
     "metadata": {},
     "output_type": "execute_result"
    }
   ],
   "source": [
    "not True"
   ]
  },
  {
   "cell_type": "code",
   "execution_count": 66,
   "id": "72a6a16f-5ddc-4475-a41a-913ba032afc2",
   "metadata": {},
   "outputs": [
    {
     "data": {
      "text/plain": [
       "True"
      ]
     },
     "execution_count": 66,
     "metadata": {},
     "output_type": "execute_result"
    }
   ],
   "source": [
    "not False"
   ]
  },
  {
   "cell_type": "code",
   "execution_count": 67,
   "id": "0fe86cfb-4a33-4d79-9899-b1c05f707135",
   "metadata": {},
   "outputs": [
    {
     "data": {
      "text/plain": [
       "10"
      ]
     },
     "execution_count": 67,
     "metadata": {},
     "output_type": "execute_result"
    }
   ],
   "source": [
    "#use of Bitwise operators\n",
    "\n",
    "10 & 10"
   ]
  },
  {
   "cell_type": "code",
   "execution_count": 68,
   "id": "79ed6047-62a4-4fbf-b2df-7f04e95dde4d",
   "metadata": {},
   "outputs": [
    {
     "data": {
      "text/plain": [
       "2"
      ]
     },
     "execution_count": 68,
     "metadata": {},
     "output_type": "execute_result"
    }
   ],
   "source": [
    "18 & 3"
   ]
  },
  {
   "cell_type": "code",
   "execution_count": 69,
   "id": "3360ba17-5b34-4368-ac8b-4a2303d288ad",
   "metadata": {},
   "outputs": [
    {
     "data": {
      "text/plain": [
       "7"
      ]
     },
     "execution_count": 69,
     "metadata": {},
     "output_type": "execute_result"
    }
   ],
   "source": [
    "3 | 5"
   ]
  },
  {
   "cell_type": "code",
   "execution_count": 70,
   "id": "c761cac2-28e5-4288-b7a4-5793ac862ffd",
   "metadata": {},
   "outputs": [
    {
     "data": {
      "text/plain": [
       "-4"
      ]
     },
     "execution_count": 70,
     "metadata": {},
     "output_type": "execute_result"
    }
   ],
   "source": [
    "~3"
   ]
  },
  {
   "cell_type": "code",
   "execution_count": 71,
   "id": "0a22a5a2-bda1-4d5d-a4ed-d876c77fb0bc",
   "metadata": {},
   "outputs": [
    {
     "data": {
      "text/plain": [
       "-101"
      ]
     },
     "execution_count": 71,
     "metadata": {},
     "output_type": "execute_result"
    }
   ],
   "source": [
    "~100"
   ]
  },
  {
   "cell_type": "code",
   "execution_count": 72,
   "id": "cc3934c1-cc69-4691-86d1-2b7ff6bdeac2",
   "metadata": {},
   "outputs": [
    {
     "data": {
      "text/plain": [
       "6"
      ]
     },
     "execution_count": 72,
     "metadata": {},
     "output_type": "execute_result"
    }
   ],
   "source": [
    "5 ^ 3"
   ]
  },
  {
   "cell_type": "code",
   "execution_count": 73,
   "id": "2c5508cf-9fb7-4b37-afcf-fe7c99c98e51",
   "metadata": {},
   "outputs": [
    {
     "data": {
      "text/plain": [
       "4"
      ]
     },
     "execution_count": 73,
     "metadata": {},
     "output_type": "execute_result"
    }
   ],
   "source": [
    "2 ^ 6"
   ]
  },
  {
   "cell_type": "code",
   "execution_count": 74,
   "id": "11c212a5-7d2e-442d-ba74-c25a470c41a0",
   "metadata": {},
   "outputs": [
    {
     "data": {
      "text/plain": [
       "280"
      ]
     },
     "execution_count": 74,
     "metadata": {},
     "output_type": "execute_result"
    }
   ],
   "source": [
    "35 << 3"
   ]
  },
  {
   "cell_type": "code",
   "execution_count": 75,
   "id": "dc930e5a-a1ea-46a1-b55a-1775aa305879",
   "metadata": {},
   "outputs": [
    {
     "data": {
      "text/plain": [
       "35"
      ]
     },
     "execution_count": 75,
     "metadata": {},
     "output_type": "execute_result"
    }
   ],
   "source": [
    "280 >> 3"
   ]
  },
  {
   "cell_type": "code",
   "execution_count": 76,
   "id": "3e02eef0-346e-48fa-ba5b-86d3c7f6acbb",
   "metadata": {},
   "outputs": [
    {
     "data": {
      "text/plain": [
       "20"
      ]
     },
     "execution_count": 76,
     "metadata": {},
     "output_type": "execute_result"
    }
   ],
   "source": [
    "#use of Assignment operators\n",
    "\n",
    "a = 15\n",
    "a+5"
   ]
  },
  {
   "cell_type": "code",
   "execution_count": 78,
   "id": "6b22d831-72a8-4eab-9aeb-c024f14d9423",
   "metadata": {},
   "outputs": [
    {
     "data": {
      "text/plain": [
       "17"
      ]
     },
     "execution_count": 78,
     "metadata": {},
     "output_type": "execute_result"
    }
   ],
   "source": [
    "b = 12\n",
    "b += 5\n",
    "b"
   ]
  },
  {
   "cell_type": "code",
   "execution_count": 79,
   "id": "2fe5e943-6208-47bd-bee6-ec9e42eb5ece",
   "metadata": {},
   "outputs": [
    {
     "data": {
      "text/plain": [
       "14"
      ]
     },
     "execution_count": 79,
     "metadata": {},
     "output_type": "execute_result"
    }
   ],
   "source": [
    "b -= 3\n",
    "b"
   ]
  },
  {
   "cell_type": "code",
   "execution_count": 80,
   "id": "f2697c86-bff0-476b-a291-d0600b1a489a",
   "metadata": {},
   "outputs": [
    {
     "data": {
      "text/plain": [
       "28"
      ]
     },
     "execution_count": 80,
     "metadata": {},
     "output_type": "execute_result"
    }
   ],
   "source": [
    "b *= 2\n",
    "b"
   ]
  },
  {
   "cell_type": "code",
   "execution_count": 81,
   "id": "2ba29e52-69de-4bee-b029-84fbff1318f8",
   "metadata": {},
   "outputs": [
    {
     "data": {
      "text/plain": [
       "7.0"
      ]
     },
     "execution_count": 81,
     "metadata": {},
     "output_type": "execute_result"
    }
   ],
   "source": [
    "b /= 4\n",
    "b"
   ]
  },
  {
   "cell_type": "code",
   "execution_count": 82,
   "id": "6b71e7d5-7805-4559-8f77-14baf0c018c5",
   "metadata": {},
   "outputs": [
    {
     "data": {
      "text/plain": [
       "True"
      ]
     },
     "execution_count": 82,
     "metadata": {},
     "output_type": "execute_result"
    }
   ],
   "source": [
    "#use of Membership Operators\n",
    "\n",
    "a = 'Data'\n",
    "'a' in a"
   ]
  },
  {
   "cell_type": "code",
   "execution_count": 83,
   "id": "15e040c4-c653-47de-aa9c-597b16267c00",
   "metadata": {},
   "outputs": [
    {
     "data": {
      "text/plain": [
       "False"
      ]
     },
     "execution_count": 83,
     "metadata": {},
     "output_type": "execute_result"
    }
   ],
   "source": [
    "'c' in a"
   ]
  },
  {
   "cell_type": "code",
   "execution_count": 84,
   "id": "87dc1bc4-5a3f-4279-84ba-2cc0c3b2d084",
   "metadata": {},
   "outputs": [
    {
     "data": {
      "text/plain": [
       "True"
      ]
     },
     "execution_count": 84,
     "metadata": {},
     "output_type": "execute_result"
    }
   ],
   "source": [
    "name = ['Yash','Vijay','Darshi']\n",
    "'Yash' in name"
   ]
  },
  {
   "cell_type": "code",
   "execution_count": 85,
   "id": "9de8ec23-8412-445a-99e6-2caa7d98adfd",
   "metadata": {},
   "outputs": [
    {
     "data": {
      "text/plain": [
       "False"
      ]
     },
     "execution_count": 85,
     "metadata": {},
     "output_type": "execute_result"
    }
   ],
   "source": [
    "'Kirti' in name"
   ]
  },
  {
   "cell_type": "code",
   "execution_count": 86,
   "id": "a6f10462-f232-49ed-a11e-b4330587cd58",
   "metadata": {},
   "outputs": [
    {
     "data": {
      "text/plain": [
       "False"
      ]
     },
     "execution_count": 86,
     "metadata": {},
     "output_type": "execute_result"
    }
   ],
   "source": [
    "#use of Identity operators\n",
    "\n",
    "a = 66\n",
    "b = 99\n",
    "a is b"
   ]
  },
  {
   "cell_type": "code",
   "execution_count": 87,
   "id": "0e2c627f-2c4d-4832-a68f-35592da6e1d3",
   "metadata": {},
   "outputs": [
    {
     "data": {
      "text/plain": [
       "True"
      ]
     },
     "execution_count": 87,
     "metadata": {},
     "output_type": "execute_result"
    }
   ],
   "source": [
    "a is not b"
   ]
  },
  {
   "cell_type": "code",
   "execution_count": 88,
   "id": "99b1cbe8-7e70-4eee-9b91-dcd87aeb42d2",
   "metadata": {},
   "outputs": [
    {
     "data": {
      "text/plain": [
       "True"
      ]
     },
     "execution_count": 88,
     "metadata": {},
     "output_type": "execute_result"
    }
   ],
   "source": [
    "a = 33\n",
    "a = b\n",
    "a is b"
   ]
  },
  {
   "cell_type": "markdown",
   "id": "2f1b36b1-ed99-4ea7-baf8-7bcfd69eb65e",
   "metadata": {},
   "source": [
    "Q5) Explain the concept of type casting in Python with examples?\n",
    "\n",
    "Ana- The process of changing the data type of a value/object in Python is known as type casting or type conversion.There are two types of type casting:\n",
    "a) Implicit type casting - When Python understand the data types on its own without any help then it is known as Implicit type casting.\n",
    "b) Explicit type casting - When Python converts the data types using inbuilt functions such as str,int,float,bool then it is known as Explicit type casting."
   ]
  },
  {
   "cell_type": "code",
   "execution_count": 1,
   "id": "aebb731a-c59e-4768-821e-4c1f4f9ca1bf",
   "metadata": {},
   "outputs": [
    {
     "ename": "TypeError",
     "evalue": "can only concatenate str (not \"int\") to str",
     "output_type": "error",
     "traceback": [
      "\u001b[0;31m---------------------------------------------------------------------------\u001b[0m",
      "\u001b[0;31mTypeError\u001b[0m                                 Traceback (most recent call last)",
      "Cell \u001b[0;32mIn[1], line 5\u001b[0m\n\u001b[1;32m      3\u001b[0m a \u001b[38;5;241m=\u001b[39m \u001b[38;5;124m'\u001b[39m\u001b[38;5;124m2\u001b[39m\u001b[38;5;124m'\u001b[39m\n\u001b[1;32m      4\u001b[0m b \u001b[38;5;241m=\u001b[39m \u001b[38;5;241m5\u001b[39m\n\u001b[0;32m----> 5\u001b[0m \u001b[43ma\u001b[49m\u001b[43m \u001b[49m\u001b[38;5;241;43m+\u001b[39;49m\u001b[43m \u001b[49m\u001b[43mb\u001b[49m\n",
      "\u001b[0;31mTypeError\u001b[0m: can only concatenate str (not \"int\") to str"
     ]
    }
   ],
   "source": [
    "#use of type casting\n",
    "\n",
    "a = '2'\n",
    "b = 5\n",
    "a + b                   #this shows an error because value stored in 'a' is a string and value stored in 'b' is an integer"
   ]
  },
  {
   "cell_type": "code",
   "execution_count": 2,
   "id": "3b1eb919-7fbd-4088-8bd7-0e56612e0864",
   "metadata": {},
   "outputs": [
    {
     "data": {
      "text/plain": [
       "7"
      ]
     },
     "execution_count": 2,
     "metadata": {},
     "output_type": "execute_result"
    }
   ],
   "source": [
    "a = '2'                #using int function for type casting\n",
    "b = 5\n",
    "int(a) + b"
   ]
  },
  {
   "cell_type": "code",
   "execution_count": 4,
   "id": "2c4782e6-4fc7-423f-9eff-44a1bd8626a8",
   "metadata": {},
   "outputs": [
    {
     "data": {
      "text/plain": [
       "float"
      ]
     },
     "execution_count": 4,
     "metadata": {},
     "output_type": "execute_result"
    }
   ],
   "source": [
    "b = 2.44\n",
    "type(b)"
   ]
  },
  {
   "cell_type": "code",
   "execution_count": 5,
   "id": "3dc70f63-5996-43f8-b355-cf425064e76e",
   "metadata": {},
   "outputs": [
    {
     "data": {
      "text/plain": [
       "2"
      ]
     },
     "execution_count": 5,
     "metadata": {},
     "output_type": "execute_result"
    }
   ],
   "source": [
    "int(b)"
   ]
  },
  {
   "cell_type": "code",
   "execution_count": 6,
   "id": "6d148290-8778-4f94-afed-dae717da18cb",
   "metadata": {},
   "outputs": [
    {
     "data": {
      "text/plain": [
       "'2.44'"
      ]
     },
     "execution_count": 6,
     "metadata": {},
     "output_type": "execute_result"
    }
   ],
   "source": [
    "str(b)"
   ]
  },
  {
   "cell_type": "code",
   "execution_count": 7,
   "id": "61a44467-af6b-42ab-a57c-78b65301a8e5",
   "metadata": {},
   "outputs": [
    {
     "data": {
      "text/plain": [
       "str"
      ]
     },
     "execution_count": 7,
     "metadata": {},
     "output_type": "execute_result"
    }
   ],
   "source": [
    "a = 'Kiran'\n",
    "type(a)"
   ]
  },
  {
   "cell_type": "code",
   "execution_count": 8,
   "id": "3ef9da87-1848-4417-96fe-834da68f4aca",
   "metadata": {},
   "outputs": [
    {
     "ename": "ValueError",
     "evalue": "invalid literal for int() with base 10: 'Kiran'",
     "output_type": "error",
     "traceback": [
      "\u001b[0;31m---------------------------------------------------------------------------\u001b[0m",
      "\u001b[0;31mValueError\u001b[0m                                Traceback (most recent call last)",
      "Cell \u001b[0;32mIn[8], line 1\u001b[0m\n\u001b[0;32m----> 1\u001b[0m \u001b[38;5;28;43mint\u001b[39;49m\u001b[43m(\u001b[49m\u001b[43ma\u001b[49m\u001b[43m)\u001b[49m\n",
      "\u001b[0;31mValueError\u001b[0m: invalid literal for int() with base 10: 'Kiran'"
     ]
    }
   ],
   "source": [
    "int(a)          #strings cannot be converted into numbers"
   ]
  },
  {
   "cell_type": "markdown",
   "id": "e53f5b74-1579-402d-aba8-f9cf59b5f256",
   "metadata": {},
   "source": [
    "Q6) How do conditional statements work in Python?Illustrate with examples.\n",
    "\n",
    "Ans-Conditional statements are those statements which help to code decisions on the basis of some preconditions.In Python, conditional statements are as follows:\n",
    "a) If statement\n",
    "b) If else statement\n",
    "c) If elif else statement\n",
    "d) Nested if else statement"
   ]
  },
  {
   "cell_type": "code",
   "execution_count": 9,
   "id": "7a54af79-c80b-4fe2-afa9-93bf9b53987f",
   "metadata": {},
   "outputs": [
    {
     "name": "stdout",
     "output_type": "stream",
     "text": [
      "a is greater than b and sum is greater than 0\n"
     ]
    }
   ],
   "source": [
    "#use of conditional statements \n",
    "#if statement\n",
    "\n",
    "a = 33\n",
    "b = -23\n",
    "if (a > b) and (a+b>0):\n",
    "    print('a is greater than b and sum is greater than 0')"
   ]
  },
  {
   "cell_type": "code",
   "execution_count": 10,
   "id": "df9fc8dc-d4bf-4a0c-92ac-3199249b1d9b",
   "metadata": {},
   "outputs": [
    {
     "name": "stdout",
     "output_type": "stream",
     "text": [
      "a is less than b\n"
     ]
    }
   ],
   "source": [
    "#if else statement\n",
    "\n",
    "a = -22\n",
    "b = 23\n",
    "if (a > b) and (a+b>0):\n",
    "    print('a is greater than b and sum is greater than 0')\n",
    "else:\n",
    "    print('a is less than b')"
   ]
  },
  {
   "cell_type": "code",
   "execution_count": 12,
   "id": "8212335e-2032-442f-b3a9-2a246509f80a",
   "metadata": {},
   "outputs": [
    {
     "name": "stdout",
     "output_type": "stream",
     "text": [
      "a is equal to b\n"
     ]
    }
   ],
   "source": [
    "#if elif else statement\n",
    "\n",
    "a = 33\n",
    "b = 33\n",
    "if a > b :\n",
    "    print('a is greater than b')\n",
    "elif a < b :\n",
    "    print('a is smaller than b')\n",
    "else:\n",
    "    print('a is equal to b')"
   ]
  },
  {
   "cell_type": "code",
   "execution_count": 26,
   "id": "e8ba1e1f-a4ca-4884-b3c4-cd234ab24109",
   "metadata": {},
   "outputs": [
    {
     "name": "stdout",
     "output_type": "stream",
     "text": [
      "both x and y is greater than 5\n"
     ]
    }
   ],
   "source": [
    "#nested if else statement\n",
    "\n",
    "x = 6\n",
    "y = 6\n",
    "if x>5:\n",
    "    if y>5:\n",
    "        print('both x and y is greater than 5')\n",
    "    else:\n",
    "        print('x is greater than 5 but t is less than 5')\n",
    "else:\n",
    "    print('x is equal to y')"
   ]
  },
  {
   "cell_type": "markdown",
   "id": "ac108f9f-97f1-4057-b19a-9bade4088cad",
   "metadata": {},
   "source": [
    "Q7) Describe the different types of loops in Python and their use cases with examples?\n",
    "\n",
    "Ans- Loop statements allow us to execute a block of code repeatedly.There are two loop statements used in Python:\n",
    "a) While loop- It repeatedly executed a block of code until a condition is met.\n",
    "b) For loop- It iterates over a sequence of elements like strings,list.\n",
    "We can use these loops with else loop,break loop and continue loop."
   ]
  },
  {
   "cell_type": "code",
   "execution_count": 15,
   "id": "92cbbb2d-23bd-45bf-babb-7f272d195216",
   "metadata": {},
   "outputs": [
    {
     "name": "stdout",
     "output_type": "stream",
     "text": [
      "1\n",
      "2\n",
      "3\n",
      "4\n"
     ]
    }
   ],
   "source": [
    "#use of loop statements\n",
    "#while loop\n",
    "\n",
    "a = 5\n",
    "b = 1\n",
    "while b < a:\n",
    "    print(b)\n",
    "    b = b+1"
   ]
  },
  {
   "cell_type": "code",
   "execution_count": 16,
   "id": "cd8bdd09-2055-4aab-b82b-9d26422a7763",
   "metadata": {},
   "outputs": [
    {
     "name": "stdout",
     "output_type": "stream",
     "text": [
      "p\n",
      "w\n",
      "s\n",
      "k\n",
      "i\n",
      "l\n",
      "l\n",
      "s\n"
     ]
    }
   ],
   "source": [
    "#use of for loop\n",
    "\n",
    "for i in 'pwskills':\n",
    "    print(i)"
   ]
  },
  {
   "cell_type": "code",
   "execution_count": 17,
   "id": "eda94139-f760-4f92-8539-7fdc1431404f",
   "metadata": {},
   "outputs": [
    {
     "name": "stdout",
     "output_type": "stream",
     "text": [
      "1\n",
      "2\n",
      "3\n",
      "4\n",
      "5\n",
      "6\n",
      "this will executed when the while loop is run without any break\n"
     ]
    }
   ],
   "source": [
    "#use of while loop with else\n",
    "\n",
    "n=7 \n",
    "i=1\n",
    "while i<n:\n",
    "    print(i)\n",
    "    i=i+1\n",
    "else:\n",
    "    print('this will executed when the while loop is run without any break')   "
   ]
  },
  {
   "cell_type": "code",
   "execution_count": 20,
   "id": "64bf5372-61c0-440a-8e87-8f1f51be85eb",
   "metadata": {},
   "outputs": [
    {
     "name": "stdout",
     "output_type": "stream",
     "text": [
      "150\n",
      "151\n",
      "152\n",
      "153\n",
      "154\n"
     ]
    }
   ],
   "source": [
    "#use of while loop with break\n",
    "\n",
    "n=200\n",
    "i=150\n",
    "while i<n:\n",
    "    print(i)\n",
    "    i=i+1\n",
    "    if i==155:\n",
    "        break\n",
    "else:\n",
    "    print('this will executed when the while loop is run without any break')"
   ]
  },
  {
   "cell_type": "code",
   "execution_count": 22,
   "id": "fe2701d0-4a13-4ec4-b265-d9194ee85023",
   "metadata": {},
   "outputs": [
    {
     "name": "stdout",
     "output_type": "stream",
     "text": [
      "4\n",
      "this will executed when the while loop is run without any break\n"
     ]
    }
   ],
   "source": [
    "#use of while loop with continue\n",
    "\n",
    "n=4         \n",
    "i=2\n",
    "while i<n:\n",
    "    i=i+1\n",
    "    if i==3:\n",
    "        continue\n",
    "    print(i)\n",
    "else:\n",
    "    print('this will executed when the while loop is run without any break')"
   ]
  },
  {
   "cell_type": "code",
   "execution_count": 23,
   "id": "e95625c4-7357-4cbe-9496-4ba2585c245a",
   "metadata": {},
   "outputs": [
    {
     "name": "stdout",
     "output_type": "stream",
     "text": [
      "1\n",
      "2\n",
      "Kirti\n",
      "pwskills\n",
      "this will be executed when the for loop ends without a break statement\n"
     ]
    }
   ],
   "source": [
    "#use of for loop eith else\n",
    "\n",
    "l=[1,2,'Kirti','pwskills']\n",
    "for i in l:\n",
    "    print(i)\n",
    "else:\n",
    "    print('this will be executed when the for loop ends without a break statement')"
   ]
  },
  {
   "cell_type": "code",
   "execution_count": 25,
   "id": "99e98485-c5cd-4a8d-9d72-c16a129bd9dd",
   "metadata": {},
   "outputs": [
    {
     "name": "stdout",
     "output_type": "stream",
     "text": [
      "1\n",
      "2\n",
      "True\n",
      "this will be executed when the for loop ends without a break statement\n"
     ]
    }
   ],
   "source": [
    "#use of for loop with continue\n",
    "\n",
    "l=[1,2,'Aman',True]\n",
    "for i in l:\n",
    "    if i == 'Aman':\n",
    "        continue\n",
    "    print(i)\n",
    "else:\n",
    "    print('this will be executed when the for loop ends without a break statement')"
   ]
  },
  {
   "cell_type": "markdown",
   "id": "e5802e7b-14bf-4f75-925c-7bed91cd7262",
   "metadata": {},
   "source": [
    "Assignment Completed"
   ]
  }
 ],
 "metadata": {
  "kernelspec": {
   "display_name": "Python 3 (ipykernel)",
   "language": "python",
   "name": "python3"
  },
  "language_info": {
   "codemirror_mode": {
    "name": "ipython",
    "version": 3
   },
   "file_extension": ".py",
   "mimetype": "text/x-python",
   "name": "python",
   "nbconvert_exporter": "python",
   "pygments_lexer": "ipython3",
   "version": "3.10.8"
  }
 },
 "nbformat": 4,
 "nbformat_minor": 5
}
